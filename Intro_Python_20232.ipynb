{
  "nbformat": 4,
  "nbformat_minor": 0,
  "metadata": {
    "colab": {
      "private_outputs": true,
      "provenance": [],
      "authorship_tag": "ABX9TyMFkAHLWTBJxZvsf9wEqr59",
      "include_colab_link": true
    },
    "kernelspec": {
      "name": "python3",
      "display_name": "Python 3"
    },
    "language_info": {
      "name": "python"
    }
  },
  "cells": [
    {
      "cell_type": "markdown",
      "metadata": {
        "id": "view-in-github",
        "colab_type": "text"
      },
      "source": [
        "<a href=\"https://colab.research.google.com/github/acb100cias/BioMateFC/blob/master/Intro_Python_20232.ipynb\" target=\"_parent\"><img src=\"https://colab.research.google.com/assets/colab-badge.svg\" alt=\"Open In Colab\"/></a>"
      ]
    },
    {
      "cell_type": "markdown",
      "source": [
        "# Introducción a Python #\n",
        "\n",
        "\n",
        "\n"
      ],
      "metadata": {
        "id": "pVqjoVS18TB_"
      }
    },
    {
      "cell_type": "code",
      "execution_count": null,
      "metadata": {
        "id": "0xfd7YDW7C3_"
      },
      "outputs": [],
      "source": [
        "import math as m\n",
        "\n",
        "m.pi**m.e"
      ]
    },
    {
      "cell_type": "code",
      "source": [
        "import numpy as np\n",
        "T=np.arange(-np.pi,np.pi,0.001)"
      ],
      "metadata": {
        "id": "nlGfKeDaFR1y"
      },
      "execution_count": null,
      "outputs": []
    },
    {
      "cell_type": "markdown",
      "source": [
        "$\\int_a^bf(x)d(x)$"
      ],
      "metadata": {
        "id": "GBIxuh9HFWcs"
      }
    },
    {
      "cell_type": "code",
      "source": [
        "for i in T:\n",
        "  print(i,np.sin(i))"
      ],
      "metadata": {
        "id": "NxVTPWtlG-kS"
      },
      "execution_count": null,
      "outputs": []
    },
    {
      "cell_type": "markdown",
      "source": [],
      "metadata": {
        "id": "NiG9KRlA8ReN"
      }
    },
    {
      "cell_type": "code",
      "source": [
        "ST=np.sin(T)"
      ],
      "metadata": {
        "id": "cTIqqdO-Hbkv"
      },
      "execution_count": null,
      "outputs": []
    },
    {
      "cell_type": "code",
      "source": [
        "import matplotlib.pyplot as plt"
      ],
      "metadata": {
        "id": "ZOk9Na7IHfz1"
      },
      "execution_count": null,
      "outputs": []
    },
    {
      "cell_type": "code",
      "source": [
        "plt.plot(T,ST,label='seno')\n",
        "plt.plot(T,np.cos(T),label='coseno')\n",
        "plt.legend()"
      ],
      "metadata": {
        "id": "DeoE9bJqICn9"
      },
      "execution_count": null,
      "outputs": []
    },
    {
      "cell_type": "code",
      "source": [],
      "metadata": {
        "id": "YMaM9-E8IewT"
      },
      "execution_count": null,
      "outputs": []
    }
  ]
}