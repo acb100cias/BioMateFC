{
  "nbformat": 4,
  "nbformat_minor": 0,
  "metadata": {
    "colab": {
      "private_outputs": true,
      "provenance": [],
      "authorship_tag": "ABX9TyNgaqYj599Nwi3bdp5Nefkm",
      "include_colab_link": true
    },
    "kernelspec": {
      "name": "python3",
      "display_name": "Python 3"
    },
    "language_info": {
      "name": "python"
    }
  },
  "cells": [
    {
      "cell_type": "markdown",
      "metadata": {
        "id": "view-in-github",
        "colab_type": "text"
      },
      "source": [
        "<a href=\"https://colab.research.google.com/github/acb100cias/BioMateFC/blob/master/SIR.ipynb\" target=\"_parent\"><img src=\"https://colab.research.google.com/assets/colab-badge.svg\" alt=\"Open In Colab\"/></a>"
      ]
    },
    {
      "cell_type": "code",
      "execution_count": null,
      "metadata": {
        "id": "IH7TJs6nPvAg"
      },
      "outputs": [],
      "source": [
        "import numpy as np\n",
        "import matplotlib.pyplot as plt\n",
        "import scipy.integrate as sci"
      ]
    },
    {
      "cell_type": "code",
      "source": [
        "def SIR(y, t, N ,beta, gamma):\n",
        "    S, I, R = y\n",
        "    dS=-beta*S*I/N\n",
        "    dI=beta*S*I/N-gamma*I\n",
        "    dR=gamma*I\n",
        "    return dS, dI, dR"
      ],
      "metadata": {
        "id": "savGUpsXQCLA"
      },
      "execution_count": null,
      "outputs": []
    },
    {
      "cell_type": "code",
      "source": [
        "def plotSol(S,I,R,t,divide_by=1):\n",
        "  fig,ax=plt.subplots()\n",
        "  ax.plot(t,S/divide_by,'b', label='Suseptible')\n",
        "  ax.plot(t,I/divide_by,'r',label='Infeccioso')\n",
        "  ax.plot(t,R/divide_by,'g',label='Removido')\n",
        "  ax.set_xlabel('Tiempo')\n",
        "  ax.set_ylabel(r'Poblacion normalizada (%d)'%divide_by)\n",
        "  ax.set_title('SIR')\n",
        "  ax.legend()\n",
        "  plt.show()"
      ],
      "metadata": {
        "id": "3lu5fknDQjsF"
      },
      "execution_count": null,
      "outputs": []
    },
    {
      "cell_type": "code",
      "source": [
        "N=120000000\n",
        "I0=10000\n",
        "R0=0\n",
        "S0=N-I0-R0\n",
        "beta=0.5\n",
        "gamma=0.02\n",
        "\n",
        "t=np.linspace(0,365,365)\n",
        "\n",
        "y0=S0,I0,R0"
      ],
      "metadata": {
        "id": "EgD-EKvbRoLV"
      },
      "execution_count": null,
      "outputs": []
    },
    {
      "cell_type": "code",
      "source": [
        "sol=sci.odeint(SIR,y0,t,args=(N,beta,gamma))"
      ],
      "metadata": {
        "id": "BIVNxbSTSQBL"
      },
      "execution_count": null,
      "outputs": []
    },
    {
      "cell_type": "code",
      "source": [
        "S,I,R=sol.T\n",
        "plotSol(S,I,R,t)\n",
        "plotSol(S,I,R,t,divide_by=N)"
      ],
      "metadata": {
        "id": "CkeVWVFdSYIP"
      },
      "execution_count": null,
      "outputs": []
    },
    {
      "cell_type": "code",
      "source": [
        "def plotSolm(S, I, R, t, divide_by=1, death_rate=0.08):\n",
        "    # Dibujamos los datos de S(t), I(t) y R(t)\n",
        "    fig, ax = plt.subplots()\n",
        "    ax.plot(t, S / divide_by, 'b', alpha=0.5, lw=2, label='Susceptible')\n",
        "    ax.plot(t, I / divide_by, 'r', alpha=0.5, lw=2, label='Infectado')\n",
        "    RR = R * (1 - death_rate)\n",
        "    DD = R - RR\n",
        "    ax.plot(t, RR / divide_by, 'g', alpha=0.5, lw=2, label='Recuperado con inmunidad')\n",
        "    ax.plot(t, DD / divide_by, 'k', alpha=0.5, lw=2, label='No recuperado')\n",
        "    ax.set_xlabel(r'Tiempo')\n",
        "    ax.set_ylabel(r'Poblacion normalizada (%d)' %divide_by)\n",
        "    legend = ax.legend()\n",
        "    plt.show()"
      ],
      "metadata": {
        "id": "iFaeJ8fxSbUg"
      },
      "execution_count": null,
      "outputs": []
    },
    {
      "cell_type": "code",
      "source": [
        "plotSolm(S, I, R, t,divide_by=N)"
      ],
      "metadata": {
        "id": "f4nxFmHUT0Yp"
      },
      "execution_count": null,
      "outputs": []
    },
    {
      "cell_type": "code",
      "source": [],
      "metadata": {
        "id": "fgMZU71pT5Z6"
      },
      "execution_count": null,
      "outputs": []
    }
  ]
}