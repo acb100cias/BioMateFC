{
 "cells": [
  {
   "cell_type": "code",
   "execution_count": null,
   "id": "specified-producer",
   "metadata": {
    "collapsed": false
   },
   "outputs": [],
   "source": []
  }
 ],
 "metadata": {
  "kernelspec": {
   "argv": [
    "/usr/bin/python3",
    "-m",
    "ipykernel_launcher",
    "-f",
    "{connection_file}"
   ],
   "display_name": "Python 3",
   "env": null,
   "interrupt_mode": "signal",
   "language": "python",
   "metadata": null,
   "name": "python3"
  },
  "name": "Untitled4.ipynb"
 },
 "nbformat": 4,
 "nbformat_minor": 5
}
