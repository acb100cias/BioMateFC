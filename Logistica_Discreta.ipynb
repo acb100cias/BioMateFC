{
  "nbformat": 4,
  "nbformat_minor": 0,
  "metadata": {
    "colab": {
      "private_outputs": true,
      "provenance": [],
      "authorship_tag": "ABX9TyNXU+bBly7Zp8FOXhpS44wc",
      "include_colab_link": true
    },
    "kernelspec": {
      "name": "python3",
      "display_name": "Python 3"
    },
    "language_info": {
      "name": "python"
    }
  },
  "cells": [
    {
      "cell_type": "markdown",
      "metadata": {
        "id": "view-in-github",
        "colab_type": "text"
      },
      "source": [
        "<a href=\"https://colab.research.google.com/github/acb100cias/BioMateFC/blob/master/Logistica_Discreta.ipynb\" target=\"_parent\"><img src=\"https://colab.research.google.com/assets/colab-badge.svg\" alt=\"Open In Colab\"/></a>"
      ]
    },
    {
      "cell_type": "code",
      "execution_count": null,
      "metadata": {
        "id": "g0uGyigddJe4"
      },
      "outputs": [],
      "source": [
        "from numpy import *\n",
        "from matplotlib.pyplot import *"
      ]
    },
    {
      "cell_type": "code",
      "source": [
        "X0=[0.4,0.6,1.3]"
      ],
      "metadata": {
        "id": "r2BffZe_dRae"
      },
      "execution_count": null,
      "outputs": []
    },
    {
      "cell_type": "code",
      "source": [
        "def f(r,x):\n",
        "    return r*x*(1-x)"
      ],
      "metadata": {
        "id": "P0OjUjSxdVKP"
      },
      "execution_count": null,
      "outputs": []
    },
    {
      "cell_type": "code",
      "source": [
        "T=arange(0,1.01,0.01)\n",
        "plot(T,f(0.1,T),label='r=0.1')\n",
        "plot(T,f(1,T),label='r=1')\n",
        "plot(T,f(1.01,T),label='r=1.01')\n",
        "plot(T,f(1.5,T),label='r=1.5')\n",
        "plot(T,f(2,T),label='r=2')\n",
        "plot(T,f(2.5,T),label='r=2.5')\n",
        "plot(T,f(2.8,T),label='r=2.8')\n",
        "plot(T,f(3.1,T),label='r=3.1')\n",
        "plot(T,T,label='y=x')\n",
        "legend()"
      ],
      "metadata": {
        "id": "thedoE5_dY0W"
      },
      "execution_count": null,
      "outputs": []
    },
    {
      "cell_type": "code",
      "source": [
        "r=2.8\n",
        "plot(T,f(r,T),label='r=%1f'%r)\n",
        "plot(T,T,label='y=x')"
      ],
      "metadata": {
        "id": "qNRfS4LcdcG-"
      },
      "execution_count": null,
      "outputs": []
    },
    {
      "cell_type": "code",
      "source": [
        "r=2.1\n",
        "plot(T,f(r,T),label='r=%1f'%r)\n",
        "plot(T,T,label='y=x')\n",
        "xc=0.05\n",
        "for i in range(1000):\n",
        "    plot([xc,xc],[xc,f(r,xc)], color='k', linestyle='--')\n",
        "    plot([f(r,xc),xc],[f(r,xc),f(r,xc)], color='k', linestyle='--')\n",
        "    xc=f(r,xc)\n",
        "legend()"
      ],
      "metadata": {
        "id": "XGNsXLDHdfnS"
      },
      "execution_count": null,
      "outputs": []
    },
    {
      "cell_type": "code",
      "source": [
        "for r in arange(2,4.01,0.1):\n",
        "    X=[X0[0]]\n",
        "    for i in range(100):\n",
        "        X.append(f(r,X[-1]))\n",
        "    plot(X)#,'.')\n",
        "    title('r=%f'%r)\n",
        "    show()\n",
        "        "
      ],
      "metadata": {
        "id": "N8b50ERPdj8d"
      },
      "execution_count": null,
      "outputs": []
    },
    {
      "cell_type": "code",
      "source": [],
      "metadata": {
        "id": "zUOiJrh-duF0"
      },
      "execution_count": null,
      "outputs": []
    }
  ]
}