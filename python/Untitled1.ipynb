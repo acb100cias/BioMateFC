{
 "cells": [
  {
   "cell_type": "code",
   "execution_count": 2,
   "metadata": {},
   "outputs": [
    {
     "name": "stdout",
     "output_type": "stream",
     "text": [
      "38.542280413170964\n",
      "36.72202291440663\n",
      "34.97199526955294\n",
      "33.289962707242076\n",
      "31.67375421018641\n",
      "30.121231600195372\n",
      "28.630314369748223\n",
      "27.198961778936496\n",
      "25.825188236814455\n",
      "24.50705705866981\n",
      "23.24266518024516\n",
      "22.03016769661675\n",
      "20.867763403911823\n",
      "19.75369354073021\n",
      "18.686246889231892\n",
      "17.663755813069358\n",
      "16.684596720984317\n",
      "15.747188786503854\n",
      "14.850000171423224\n",
      "13.99153593410781\n",
      "13.170346526519982\n",
      "12.385024111926773\n",
      "11.634202631216494\n",
      "10.916562315820226\n",
      "10.230810989105095\n",
      "9.575708998272825\n",
      "8.950054735547374\n",
      "8.352683087177265\n",
      "7.782468701040549\n",
      "7.238323966901942\n",
      "6.719198439500985\n",
      "6.224079918858589\n",
      "5.751990009633604\n",
      "5.30198755674477\n",
      "4.873164410666621\n",
      "4.464647565554846\n",
      "4.075596670992202\n",
      "3.7052038767972477\n",
      "3.3526928477727314\n",
      "3.017317527375031\n",
      "2.698363516795829\n",
      "2.395144373280944\n",
      "2.1070019392733883\n",
      "1.8333061466962188\n",
      "1.5734535238952452\n",
      "1.3268666436522039\n",
      "1.0929932378248386\n",
      "(46, 'times iterations')\n",
      "(\"y'(inf)) = \", 1.0929932378248386)\n",
      "('y\"(0) =', 0.47000000000000025)\n",
      "('duration =', 0.03911599999999993)\n"
     ]
    },
    {
     "data": {
      "text/plain": [
       "<matplotlib.legend.Legend at 0x7ff81b4e3090>"
      ]
     },
     "execution_count": 2,
     "metadata": {},
     "output_type": "execute_result"
    },
    {
     "data": {
      "image/png": "[encoded data removed]",
      "text/plain": [
       "<Figure size 432x288 with 1 Axes>"
      ]
     },
     "metadata": {
      "needs_background": "light"
     },
     "output_type": "display_data"
    }
   ],
   "source": [
    "import numpy as np\n",
    "import matplotlib.pyplot as plt\n",
    "from scipy.integrate import odeint\n",
    "import time\n",
    "\n",
    "start = time.clock()\n",
    "def F(y, x):   # First-order differential equations\n",
    "    F1 = y[1]\n",
    "    F2 = y[2]\n",
    "    F3 = -y[0]*y[2] - (1 - y[1]*y[1])\n",
    "    return [F1,F2,F3]\n",
    "\n",
    "def init(u):\n",
    "    return np.array([0,0,u])\n",
    "\n",
    "X = np.linspace(0, 4, 50)\n",
    "niter = 100\n",
    "u = 0\n",
    "tol = 0.1\n",
    "ustep = 0.01\n",
    "\n",
    "for i in range(niter):\n",
    "    u += ustep\n",
    "    Y = odeint(F, init(u), X)\n",
    "    print Y[-1,1]\n",
    "    if abs(Y[len(Y)-1,1] - 1) < tol:\n",
    "        print(i,'times iterations')\n",
    "        print(\"y'(inf)) = \", Y[len(Y)-1,1])\n",
    "        print('y\"(0) =',u)\n",
    "        break\n",
    "\n",
    "end = time.clock()\n",
    "print('duration =',end - start)\n",
    "\n",
    "plt.plot(X, Y[:,0], label='y')\n",
    "plt.plot(X, Y[:,1], label='y\\'')\n",
    "plt.legend()\n",
    "#plt.show()"
   ]
  },
  {
   "cell_type": "code",
   "execution_count": 1,
   "metadata": {},
   "outputs": [
    {
     "name": "stdout",
     "output_type": "stream",
     "text": [
      "Cloning into 'chaosGameST'...\n",
      "remote: Enumerating objects: 343, done.\u001b[K\n",
      "remote: Total 343 (delta 0), reused 0 (delta 0), pack-reused 343\u001b[K\n",
      "Receiving objects: 100% (343/343), 30.33 MiB | 1.26 MiB/s, done.\n",
      "Resolving deltas: 100% (75/75), done.\n"
     ]
    }
   ],
   "source": [
    "!git clone https://github.com/atreyasha/chaosGameST.git\n",
    "    "
   ]
  },
  {
   "cell_type": "code",
   "execution_count": 5,
   "metadata": {},
   "outputs": [
    {
     "ename": "Terminator",
     "evalue": "",
     "output_type": "error",
     "traceback": [
      "\u001b[0;31m---------------------------------------------------------------------------\u001b[0m",
      "\u001b[0;31mTerminator\u001b[0m                                Traceback (most recent call last)",
      "\u001b[0;32m<ipython-input-5-25c694ff0fed>\u001b[0m in \u001b[0;36m<module>\u001b[0;34m\u001b[0m\n\u001b[1;32m      6\u001b[0m \u001b[0mscreen\u001b[0m\u001b[0;34m.\u001b[0m\u001b[0msetup\u001b[0m\u001b[0;34m(\u001b[0m\u001b[0;36m1000\u001b[0m\u001b[0;34m,\u001b[0m\u001b[0;36m1000\u001b[0m\u001b[0;34m)\u001b[0m\u001b[0;34m\u001b[0m\u001b[0;34m\u001b[0m\u001b[0m\n\u001b[1;32m      7\u001b[0m \u001b[0mscreen\u001b[0m\u001b[0;34m.\u001b[0m\u001b[0mtracer\u001b[0m\u001b[0;34m(\u001b[0m\u001b[0;36m0\u001b[0m\u001b[0;34m,\u001b[0m\u001b[0;36m0\u001b[0m\u001b[0;34m)\u001b[0m\u001b[0;34m\u001b[0m\u001b[0;34m\u001b[0m\u001b[0m\n\u001b[0;32m----> 8\u001b[0;31m \u001b[0mturtle\u001b[0m\u001b[0;34m.\u001b[0m\u001b[0mhideturtle\u001b[0m\u001b[0;34m(\u001b[0m\u001b[0;34m)\u001b[0m\u001b[0;34m\u001b[0m\u001b[0;34m\u001b[0m\u001b[0m\n\u001b[0m\u001b[1;32m      9\u001b[0m \u001b[0mturtle\u001b[0m\u001b[0;34m.\u001b[0m\u001b[0mspeed\u001b[0m\u001b[0;34m(\u001b[0m\u001b[0;36m0\u001b[0m\u001b[0;34m)\u001b[0m\u001b[0;34m\u001b[0m\u001b[0;34m\u001b[0m\u001b[0m\n\u001b[1;32m     10\u001b[0m \u001b[0mturtle\u001b[0m\u001b[0;34m.\u001b[0m\u001b[0mup\u001b[0m\u001b[0;34m(\u001b[0m\u001b[0;34m)\u001b[0m\u001b[0;34m\u001b[0m\u001b[0;34m\u001b[0m\u001b[0m\n",
      "\u001b[0;32m/usr/local/lib/python3.7/turtle.py\u001b[0m in \u001b[0;36mhideturtle\u001b[0;34m()\u001b[0m\n",
      "\u001b[0;31mTerminator\u001b[0m: "
     ]
    }
   ],
   "source": [
    "import turtle\n",
    "import random\n",
    "\n",
    "screen = turtle.Screen()\n",
    "screen.title('Triangle Chaos Game with Python Turtle')\n",
    "screen.setup(1000,1000)\n",
    "screen.tracer(0,0)\n",
    "turtle.hideturtle()\n",
    "turtle.speed(0)\n",
    "turtle.up()\n",
    "\n",
    "A = (0,350)\n",
    "B = (-300,-200)\n",
    "C = (300,-200)\n",
    "V = (A,B,C) # list of three vertices\n",
    "for v in V:\n",
    "    turtle.goto(v)\n",
    "    turtle.dot('red')\n",
    "\n",
    "n = 10000 # number of points to draw\n",
    "p = (random.uniform(-200,200),random.uniform(-200,200)) # random starting point\n",
    "t = turtle.Turtle()\n",
    "t.up()\n",
    "t.hideturtle()\n",
    "for i in range(n):\n",
    "    t.goto(p)\n",
    "    t.dot(2,'blue')\n",
    "    r = random.randrange(len(V)) # pick a random vertex\n",
    "    p = ((V[r][0]+p[0])/2,(V[r][1]+p[1])/2) # go to mid point between the random vertex and point   \n",
    "    if i % 1000 == 0: # update for every 1000 moves, this part is for performance reason only\n",
    "        t = turtle.Turtle() # use new turutle\n",
    "        t.up()\n",
    "        t.hideturtle()\n",
    "        screen.update()"
   ]
  },
  {
   "cell_type": "code",
   "execution_count": null,
   "metadata": {},
   "outputs": [],
   "source": []
  }
 ],
 "metadata": {
  "kernelspec": {
   "display_name": "Python 3",
   "language": "python",
   "name": "python3"
  },
  "language_info": {
   "codemirror_mode": {
    "name": "ipython",
    "version": 3
   },
   "file_extension": ".py",
   "mimetype": "text/x-python",
   "name": "python",
   "nbconvert_exporter": "python",
   "pygments_lexer": "ipython3",
   "version": "3.7.9"
  }
 },
 "nbformat": 4,
 "nbformat_minor": 2
}
