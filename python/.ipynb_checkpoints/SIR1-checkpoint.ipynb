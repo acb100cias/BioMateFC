{
 "cells": [
  {
   "cell_type": "code",
   "execution_count": null,
   "metadata": {},
   "outputs": [],
   "source": [
    "import numpy as np\n",
    "from scipy.integrate import odeint\n",
    "import matplotlib.pyplot as plt\n"
   ]
  },
  {
   "cell_type": "code",
   "execution_count": null,
   "metadata": {},
   "outputs": [],
   "source": [
    "def deriv(y, t, N, beta, gamma):\n",
    "    S, I, R = y\n",
    "    dSdt = -beta * S * I / N\n",
    "    dIdt = beta * S * I / N - gamma * I\n",
    "    dRdt = gamma * I\n",
    "    return dSdt, dIdt, dRdt"
   ]
  },
  {
   "cell_type": "code",
   "execution_count": null,
   "metadata": {},
   "outputs": [],
   "source": [
    "def plot(S, I, R, t, divide_by=1):\n",
    "    # Dibujamos los datos de S(t), I(t) y R(t)\n",
    "    fig, ax = plt.subplots()\n",
    "    ax.plot(t, S / divide_by, 'b', alpha=0.5, lw=2, label='Susceptible')\n",
    "    ax.plot(t, I / divide_by, 'r', alpha=0.5, lw=2, label='Infectado')\n",
    "    ax.plot(t, R / divide_by, 'g', alpha=0.5, lw=2, label='Recuperado con inmunidad')\n",
    "    ax.set_xlabel(r'Tiempo')\n",
    "    ax.set_ylabel(r'Poblacion normalizada (%d)' %divide_by)\n",
    "    legend = ax.legend()\n",
    "    plt.show()"
   ]
  },
  {
   "cell_type": "code",
   "execution_count": null,
   "metadata": {},
   "outputs": [],
   "source": [
    "\n",
    "N = 47000000 \n",
    "I0 = 10000\n",
    "R0 = 0\n",
    " \n",
    "\n",
    "S0 = N - I0 - R0\n",
    " \n",
    "beta = 0.1 # contagio\n",
    "gamma = 0.02 # recuperación\n",
    " \n",
    "t = np.linspace(0, 365, 365)\n",
    " \n",
    "y0 = S0, I0, R0"
   ]
  },
  {
   "cell_type": "code",
   "execution_count": null,
   "metadata": {},
   "outputs": [],
   "source": [
    "# Integrate the SIR equations over the time grid, t.\n",
    "ret = odeint(deriv, y0, t, args=(N, beta, gamma))\n",
    "S, I, R = ret.T\n",
    " \n",
    "plot(S, I, R, t) # Datos sin normalizar\n",
    "plot(S, I, R, t, divide_by=N) # Datos normalizados"
   ]
  },
  {
   "cell_type": "code",
   "execution_count": null,
   "metadata": {},
   "outputs": [],
   "source": [
    "B=np.arange(0.1,1,0.2)\n",
    "C=np.arange(0.02,0.1,0.04)\n",
    "N=120000000.\n",
    "plt.figure(figsize=(20,10))\n",
    "for i in B:\n",
    "    for j in C:\n",
    "        ret = odeint(deriv, y0, t, args=(N, i, j))\n",
    "        S, I, R = ret.T\n",
    "        plt.plot(S,I,label=r'$\\beta=$%f,$\\gamma=$%f'%(i,j))\n",
    "plt.xlabel('S')\n",
    "plt.ylabel('I')\n",
    "plt.legend(loc='upper right')  \n",
    "plt.title('Plano-fase')"
   ]
  },
  {
   "cell_type": "code",
   "execution_count": null,
   "metadata": {},
   "outputs": [],
   "source": [
    "def plot_with_death_rate(S, I, R, t, divide_by=1, death_rate=0.05):\n",
    "    # Dibujamos los datos de S(t), I(t) y R(t)\n",
    "    fig, ax = plt.subplots()\n",
    "    ax.plot(t, S / divide_by, 'b', alpha=0.5, lw=2, label='Susceptible')\n",
    "    ax.plot(t, I / divide_by, 'r', alpha=0.5, lw=2, label='Infectado')\n",
    "    RR = R * (1 - death_rate)\n",
    "    DD = R - RR\n",
    "    ax.plot(t, RR / divide_by, 'g', alpha=0.5, lw=2, label='Recuperado con inmunidad')\n",
    "    ax.plot(t, DD / divide_by, 'k', alpha=0.5, lw=2, label='No recuperado')\n",
    "    ax.set_xlabel(r'Tiempo')\n",
    "    ax.set_ylabel(r'Poblacion normalizada (%d)' %divide_by)\n",
    "    legend = ax.legend()\n",
    "    plt.show()"
   ]
  },
  {
   "cell_type": "code",
   "execution_count": null,
   "metadata": {},
   "outputs": [],
   "source": [
    "# Integrate the SIR equations over the time grid, t.\n",
    "ret = odeint(deriv, y0, t, args=(N, beta, gamma))\n",
    "S, I, R = ret.T\n",
    " \n",
    "plot_with_death_rate(S, I, R, t) # Datos sin normalizar\n",
    "plot_with_death_rate(S, I, R, t, divide_by=N) # Datos normalizados"
   ]
  },
  {
   "cell_type": "code",
   "execution_count": null,
   "metadata": {},
   "outputs": [],
   "source": []
  }
 ],
 "metadata": {
  "kernelspec": {
   "display_name": "Python 3",
   "language": "python",
   "name": "python3"
  },
  "language_info": {
   "codemirror_mode": {
    "name": "ipython",
    "version": 3
   },
   "file_extension": ".py",
   "mimetype": "text/x-python",
   "name": "python",
   "nbconvert_exporter": "python",
   "pygments_lexer": "ipython3",
   "version": "3.7.9"
  }
 },
 "nbformat": 4,
 "nbformat_minor": 2
}
