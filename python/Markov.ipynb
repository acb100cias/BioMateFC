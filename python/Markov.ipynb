{
 "cells": [
  {
   "cell_type": "code",
   "execution_count": 1,
   "metadata": {},
   "outputs": [],
   "source": [
    "import numpy as np"
   ]
  },
  {
   "cell_type": "code",
   "execution_count": 3,
   "metadata": {},
   "outputs": [],
   "source": [
    "class MarkovChain(object):\n",
    "    def __init__(self, transition_prob):\n",
    "\n",
    "        self.transition_prob = transition_prob\n",
    "        self.states = list(transition_prob.keys())\n",
    " \n",
    "    def next_state(self, current_state):\n",
    "        return np.random.choice(\n",
    "            self.states, \n",
    "            p=[self.transition_prob[current_state][next_state] \n",
    "               for next_state in self.states]\n",
    "        )\n",
    " \n",
    "    def generate_states(self, current_state, no=10):\n",
    "        future_states = []\n",
    "        for i in range(no):\n",
    "            next_state = self.next_state(current_state)\n",
    "            future_states.append(next_state)\n",
    "            current_state = next_state\n",
    "        return future_states"
   ]
  },
  {
   "cell_type": "code",
   "execution_count": 4,
   "metadata": {},
   "outputs": [],
   "source": [
    "transition_prob = {'Sunny': {'Sunny': 0.8, 'Rainy': 0.19, \n",
    " 'Snowy': 0.01},\n",
    " 'Rainy': {'Sunny': 0.2, 'Rainy': 0.7,\n",
    " 'Snowy': 0.1},\n",
    " 'Snowy': {'Sunny': 0.1, 'Rainy': 0.2,\n",
    " 'Snowy': 0.7}}\n",
    " \n",
    "weather_chain = MarkovChain(transition_prob=transition_prob)\n",
    "#weather_chain.next_state(current_state='Sunny')\n",
    "#weather_chain.next_state(current_state='Snowy')\n",
    "#weather_chain.generate_states(current_state='Snowy', no=10)     \n"
   ]
  },
  {
   "cell_type": "code",
   "execution_count": 14,
   "metadata": {},
   "outputs": [
    {
     "data": {
      "text/plain": [
       "'Sunny'"
      ]
     },
     "execution_count": 14,
     "metadata": {},
     "output_type": "execute_result"
    }
   ],
   "source": [
    "weather_chain.next_state(current_state='Snowy')"
   ]
  },
  {
   "cell_type": "code",
   "execution_count": 17,
   "metadata": {},
   "outputs": [
    {
     "data": {
      "text/plain": [
       "['Sunny',\n",
       " 'Sunny',\n",
       " 'Sunny',\n",
       " 'Rainy',\n",
       " 'Rainy',\n",
       " 'Sunny',\n",
       " 'Sunny',\n",
       " 'Rainy',\n",
       " 'Rainy',\n",
       " 'Rainy',\n",
       " 'Sunny',\n",
       " 'Rainy',\n",
       " 'Rainy',\n",
       " 'Rainy',\n",
       " 'Rainy',\n",
       " 'Rainy',\n",
       " 'Rainy',\n",
       " 'Sunny',\n",
       " 'Sunny',\n",
       " 'Sunny',\n",
       " 'Sunny',\n",
       " 'Sunny',\n",
       " 'Sunny',\n",
       " 'Sunny',\n",
       " 'Sunny',\n",
       " 'Sunny',\n",
       " 'Sunny',\n",
       " 'Sunny',\n",
       " 'Sunny',\n",
       " 'Sunny',\n",
       " 'Sunny',\n",
       " 'Sunny',\n",
       " 'Rainy',\n",
       " 'Sunny',\n",
       " 'Sunny',\n",
       " 'Sunny',\n",
       " 'Sunny',\n",
       " 'Sunny',\n",
       " 'Sunny',\n",
       " 'Sunny',\n",
       " 'Sunny',\n",
       " 'Rainy',\n",
       " 'Rainy',\n",
       " 'Rainy',\n",
       " 'Rainy',\n",
       " 'Sunny',\n",
       " 'Sunny',\n",
       " 'Sunny',\n",
       " 'Snowy',\n",
       " 'Snowy',\n",
       " 'Rainy',\n",
       " 'Rainy',\n",
       " 'Sunny',\n",
       " 'Rainy',\n",
       " 'Sunny',\n",
       " 'Rainy',\n",
       " 'Rainy',\n",
       " 'Rainy',\n",
       " 'Rainy',\n",
       " 'Sunny',\n",
       " 'Sunny',\n",
       " 'Rainy',\n",
       " 'Snowy',\n",
       " 'Snowy',\n",
       " 'Snowy',\n",
       " 'Sunny',\n",
       " 'Sunny',\n",
       " 'Sunny',\n",
       " 'Sunny',\n",
       " 'Sunny',\n",
       " 'Sunny',\n",
       " 'Sunny',\n",
       " 'Sunny',\n",
       " 'Sunny',\n",
       " 'Sunny',\n",
       " 'Sunny',\n",
       " 'Sunny',\n",
       " 'Sunny',\n",
       " 'Sunny',\n",
       " 'Rainy',\n",
       " 'Rainy',\n",
       " 'Rainy',\n",
       " 'Rainy',\n",
       " 'Rainy',\n",
       " 'Sunny',\n",
       " 'Sunny',\n",
       " 'Sunny',\n",
       " 'Sunny',\n",
       " 'Sunny',\n",
       " 'Sunny',\n",
       " 'Sunny',\n",
       " 'Sunny',\n",
       " 'Sunny',\n",
       " 'Sunny',\n",
       " 'Sunny',\n",
       " 'Sunny',\n",
       " 'Sunny',\n",
       " 'Sunny',\n",
       " 'Sunny',\n",
       " 'Sunny']"
      ]
     },
     "execution_count": 17,
     "metadata": {},
     "output_type": "execute_result"
    }
   ],
   "source": [
    "weather_chain.generate_states(current_state='Sunny', no=100)"
   ]
  },
  {
   "cell_type": "code",
   "execution_count": 29,
   "metadata": {},
   "outputs": [
    {
     "ename": "SyntaxError",
     "evalue": "invalid syntax (<ipython-input-29-fc849661b90a>, line 10)",
     "output_type": "error",
     "traceback": [
      "\u001b[0;36m  File \u001b[0;32m\"<ipython-input-29-fc849661b90a>\"\u001b[0;36m, line \u001b[0;32m10\u001b[0m\n\u001b[0;31m    def nweather_chain.generate_states(current_state='Snowy', no=10,ext_state(self, current_state='Snowy')):\u001b[0m\n\u001b[0m                      ^\u001b[0m\n\u001b[0;31mSyntaxError\u001b[0m\u001b[0;31m:\u001b[0m invalid syntax\n"
     ]
    }
   ],
   "source": [
    "class MarkovChain(object):\n",
    "    def __init__(self, transition_matrix, states):\n",
    "        self.transition_matrix = np.atleast_2d(transition_matrix)\n",
    "        self.states = states\n",
    "        self.index_dict = {self.states[index]: index for index in \n",
    "                           range(len(self.states))}\n",
    "        self.state_dict = {index: self.states[index] for index in\n",
    "                           range(len(self.states))}\n",
    " \n",
    "    def nweather_chain.generate_states(current_state='Snowy', no=10, ext_state(self, current_state='Snowy')):\n",
    "        return np.random.choice(\n",
    "         self.states, \n",
    "         p=self.transition_matrix[self.index_dict[current_state], :]\n",
    "       )\n",
    " \n",
    "    def generate_states(self, current_state, no=10):\n",
    "        future_states = []\n",
    "        for i in range(no):\n",
    "            next_state = self.next_state(current_state)\n",
    "            future_states.append(next_state)\n",
    "            current_state = next_state\n",
    "        return future_states"
   ]
  },
  {
   "cell_type": "code",
   "execution_count": 22,
   "metadata": {},
   "outputs": [],
   "source": [
    "transition_matrix = [[0.8, 0.19, 0.01],\n",
    "                         [0.2,  0.7,  0.1],\n",
    "                         [0.1,  0.2,  0.7]]"
   ]
  },
  {
   "cell_type": "code",
   "execution_count": 23,
   "metadata": {},
   "outputs": [],
   "source": [
    "weather_chain = MarkovChain(transition_matrix=transition_matrix,\n",
    "                                states=['Sunny', 'Rainy', 'Snowy'])"
   ]
  },
  {
   "cell_type": "code",
   "execution_count": 26,
   "metadata": {},
   "outputs": [
    {
     "ename": "AttributeError",
     "evalue": "'MarkovChain' object has no attribute 'next_state'",
     "output_type": "error",
     "traceback": [
      "\u001b[0;31m---------------------------------------------------------------------------\u001b[0m",
      "\u001b[0;31mAttributeError\u001b[0m                            Traceback (most recent call last)",
      "\u001b[0;32m<ipython-input-26-5d718c93176a>\u001b[0m in \u001b[0;36m<module>\u001b[0;34m\u001b[0m\n\u001b[0;32m----> 1\u001b[0;31m \u001b[0mweather_chain\u001b[0m\u001b[0;34m.\u001b[0m\u001b[0mgenerate_states\u001b[0m\u001b[0;34m(\u001b[0m\u001b[0mcurrent_state\u001b[0m\u001b[0;34m=\u001b[0m\u001b[0;34m'Snowy'\u001b[0m\u001b[0;34m)\u001b[0m\u001b[0;34m\u001b[0m\u001b[0;34m\u001b[0m\u001b[0m\n\u001b[0m",
      "\u001b[0;32m<ipython-input-21-3f00c6a529c0>\u001b[0m in \u001b[0;36mgenerate_states\u001b[0;34m(self, current_state, no)\u001b[0m\n\u001b[1;32m     17\u001b[0m         \u001b[0mfuture_states\u001b[0m \u001b[0;34m=\u001b[0m \u001b[0;34m[\u001b[0m\u001b[0;34m]\u001b[0m\u001b[0;34m\u001b[0m\u001b[0;34m\u001b[0m\u001b[0m\n\u001b[1;32m     18\u001b[0m         \u001b[0;32mfor\u001b[0m \u001b[0mi\u001b[0m \u001b[0;32min\u001b[0m \u001b[0mrange\u001b[0m\u001b[0;34m(\u001b[0m\u001b[0mno\u001b[0m\u001b[0;34m)\u001b[0m\u001b[0;34m:\u001b[0m\u001b[0;34m\u001b[0m\u001b[0;34m\u001b[0m\u001b[0m\n\u001b[0;32m---> 19\u001b[0;31m             \u001b[0mnext_state\u001b[0m \u001b[0;34m=\u001b[0m \u001b[0mself\u001b[0m\u001b[0;34m.\u001b[0m\u001b[0mnext_state\u001b[0m\u001b[0;34m(\u001b[0m\u001b[0mcurrent_state\u001b[0m\u001b[0;34m)\u001b[0m\u001b[0;34m\u001b[0m\u001b[0;34m\u001b[0m\u001b[0m\n\u001b[0m\u001b[1;32m     20\u001b[0m             \u001b[0mfuture_states\u001b[0m\u001b[0;34m.\u001b[0m\u001b[0mappend\u001b[0m\u001b[0;34m(\u001b[0m\u001b[0mnext_state\u001b[0m\u001b[0;34m)\u001b[0m\u001b[0;34m\u001b[0m\u001b[0;34m\u001b[0m\u001b[0m\n\u001b[1;32m     21\u001b[0m             \u001b[0mcurrent_state\u001b[0m \u001b[0;34m=\u001b[0m \u001b[0mnext_state\u001b[0m\u001b[0;34m\u001b[0m\u001b[0;34m\u001b[0m\u001b[0m\n",
      "\u001b[0;31mAttributeError\u001b[0m: 'MarkovChain' object has no attribute 'next_state'"
     ]
    }
   ],
   "source": [
    "weather_chain.generate_states(current_state='Snowy')"
   ]
  },
  {
   "cell_type": "code",
   "execution_count": 30,
   "metadata": {},
   "outputs": [
    {
     "ename": "AttributeError",
     "evalue": "'MarkovChain' object has no attribute 'next_state'",
     "output_type": "error",
     "traceback": [
      "\u001b[0;31m---------------------------------------------------------------------------\u001b[0m",
      "\u001b[0;31mAttributeError\u001b[0m                            Traceback (most recent call last)",
      "\u001b[0;32m<ipython-input-30-683a6a5695b7>\u001b[0m in \u001b[0;36m<module>\u001b[0;34m\u001b[0m\n\u001b[0;32m----> 1\u001b[0;31m \u001b[0mweather_chain\u001b[0m\u001b[0;34m.\u001b[0m\u001b[0mnext_state\u001b[0m\u001b[0;34m(\u001b[0m\u001b[0mcurrent_state\u001b[0m\u001b[0;34m=\u001b[0m\u001b[0;34m'Snowy'\u001b[0m\u001b[0;34m)\u001b[0m\u001b[0;34m\u001b[0m\u001b[0;34m\u001b[0m\u001b[0m\n\u001b[0m",
      "\u001b[0;31mAttributeError\u001b[0m: 'MarkovChain' object has no attribute 'next_state'"
     ]
    }
   ],
   "source": [
    "weather_chain.next_state(current_state='Snowy')"
   ]
  },
  {
   "cell_type": "code",
   "execution_count": 77,
   "metadata": {},
   "outputs": [],
   "source": [
    "A=weather_chain.generate_states(current_state='Snowy', no=100)"
   ]
  },
  {
   "cell_type": "code",
   "execution_count": 78,
   "metadata": {},
   "outputs": [],
   "source": [
    "from pandas import *"
   ]
  },
  {
   "cell_type": "code",
   "execution_count": 79,
   "metadata": {},
   "outputs": [],
   "source": [
    "DFA=DataFrame(A)"
   ]
  },
  {
   "cell_type": "code",
   "execution_count": 80,
   "metadata": {},
   "outputs": [],
   "source": [
    "DFA['state']=np.zeros(len(A))"
   ]
  },
  {
   "cell_type": "code",
   "execution_count": 81,
   "metadata": {},
   "outputs": [
    {
     "name": "stderr",
     "output_type": "stream",
     "text": [
      "/home/augusto/.local/lib/python3.7/site-packages/ipykernel_launcher.py:3: SettingWithCopyWarning: \n",
      "A value is trying to be set on a copy of a slice from a DataFrame\n",
      "\n",
      "See the caveats in the documentation: https://pandas.pydata.org/pandas-docs/stable/user_guide/indexing.html#returning-a-view-versus-a-copy\n",
      "  This is separate from the ipykernel package so we can avoid doing imports until\n",
      "/home/augusto/.local/lib/python3.7/site-packages/ipykernel_launcher.py:7: SettingWithCopyWarning: \n",
      "A value is trying to be set on a copy of a slice from a DataFrame\n",
      "\n",
      "See the caveats in the documentation: https://pandas.pydata.org/pandas-docs/stable/user_guide/indexing.html#returning-a-view-versus-a-copy\n",
      "  import sys\n",
      "/home/augusto/.local/lib/python3.7/site-packages/ipykernel_launcher.py:5: SettingWithCopyWarning: \n",
      "A value is trying to be set on a copy of a slice from a DataFrame\n",
      "\n",
      "See the caveats in the documentation: https://pandas.pydata.org/pandas-docs/stable/user_guide/indexing.html#returning-a-view-versus-a-copy\n",
      "  \"\"\"\n"
     ]
    }
   ],
   "source": [
    "for i in range(len(DFA)):\n",
    "    if DFA[0][i]=='Snowy':\n",
    "        DFA['state'][i]=-1\n",
    "    elif DFA[0][i]=='Rainy':\n",
    "        DFA['state'][i]=0\n",
    "    else:\n",
    "        DFA['state'][i]=1\n",
    "    "
   ]
  },
  {
   "cell_type": "code",
   "execution_count": 82,
   "metadata": {},
   "outputs": [
    {
     "data": {
      "text/plain": [
       "[<matplotlib.lines.Line2D at 0x7fdd8fb7b750>]"
      ]
     },
     "execution_count": 82,
     "metadata": {},
     "output_type": "execute_result"
    },
    {
     "data": {
      "image/png": "[encoded data removed]",
      "text/plain": [
       "<Figure size 432x288 with 1 Axes>"
      ]
     },
     "metadata": {
      "needs_background": "light"
     },
     "output_type": "display_data"
    }
   ],
   "source": [
    "from matplotlib.pyplot import *\n",
    "\n",
    "\n",
    "plot(DFA.index.values,DFA.state.values)"
   ]
  },
  {
   "cell_type": "code",
   "execution_count": null,
   "metadata": {},
   "outputs": [],
   "source": []
  }
 ],
 "metadata": {
  "kernelspec": {
   "display_name": "Python 3",
   "language": "python",
   "name": "python3"
  },
  "language_info": {
   "codemirror_mode": {
    "name": "ipython",
    "version": 3
   },
   "file_extension": ".py",
   "mimetype": "text/x-python",
   "name": "python",
   "nbconvert_exporter": "python",
   "pygments_lexer": "ipython3",
   "version": "3.7.9"
  }
 },
 "nbformat": 4,
 "nbformat_minor": 4
}
