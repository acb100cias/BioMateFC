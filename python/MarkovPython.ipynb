{
 "cells": [
  {
   "cell_type": "code",
   "execution_count": 1,
   "id": "876b3a7b-4c02-43e2-bbcd-5b50d292e6e7",
   "metadata": {
    "tags": []
   },
   "outputs": [],
   "source": [
    "import scipy.linalg\n",
    "import numpy as np"
   ]
  },
  {
   "cell_type": "code",
   "execution_count": 6,
   "id": "8124a6d6-bb47-470d-beeb-2d4660d1f9b1",
   "metadata": {
    "tags": []
   },
   "outputs": [],
   "source": [
    "estado=['O','C']\n"
   ]
  },
  {
   "cell_type": "code",
   "execution_count": 7,
   "id": "475a9944-a7db-4c0d-ab17-144e4324427a",
   "metadata": {
    "tags": []
   },
   "outputs": [],
   "source": [
    "M=np.array([[0.6,0.4],[0.7,0.3]])"
   ]
  },
  {
   "cell_type": "code",
   "execution_count": 8,
   "id": "ce6ed994-6fd8-42c4-9501-566787e53877",
   "metadata": {
    "tags": []
   },
   "outputs": [
    {
     "data": {
      "text/plain": [
       "array([[0.6, 0.4],\n",
       "       [0.7, 0.3]])"
      ]
     },
     "execution_count": 8,
     "metadata": {},
     "output_type": "execute_result"
    }
   ],
   "source": [
    "M"
   ]
  },
  {
   "cell_type": "code",
   "execution_count": 12,
   "id": "402afc42-d60a-4044-ba06-b6b6b41ead6b",
   "metadata": {
    "tags": []
   },
   "outputs": [],
   "source": [
    "n=200\n",
    "CI=0\n",
    "ea=CI"
   ]
  },
  {
   "cell_type": "code",
   "execution_count": 13,
   "id": "c90e980e-1e44-480f-b0f3-7f17d9d5a363",
   "metadata": {
    "tags": []
   },
   "outputs": [
    {
     "data": {
      "text/plain": [
       "'O'"
      ]
     },
     "execution_count": 13,
     "metadata": {},
     "output_type": "execute_result"
    }
   ],
   "source": [
    "estado[ea]"
   ]
  },
  {
   "cell_type": "code",
   "execution_count": 14,
   "id": "ceb8848a-a1c3-45a8-93a2-af08a85a4abf",
   "metadata": {
    "tags": []
   },
   "outputs": [
    {
     "name": "stdout",
     "output_type": "stream",
     "text": [
      "O\n",
      "O\n",
      "O\n",
      "O\n",
      "C\n",
      "O\n",
      "O\n",
      "O\n",
      "O\n",
      "C\n",
      "O\n",
      "C\n",
      "O\n",
      "C\n",
      "O\n",
      "O\n",
      "O\n",
      "O\n",
      "O\n",
      "C\n",
      "C\n",
      "O\n",
      "O\n",
      "C\n",
      "O\n",
      "O\n",
      "C\n",
      "O\n",
      "O\n",
      "C\n",
      "C\n",
      "O\n",
      "C\n",
      "O\n",
      "O\n",
      "O\n",
      "C\n",
      "O\n",
      "C\n",
      "O\n",
      "O\n",
      "O\n",
      "O\n",
      "C\n",
      "O\n",
      "C\n",
      "O\n",
      "O\n",
      "O\n",
      "C\n",
      "O\n",
      "C\n",
      "O\n",
      "C\n",
      "O\n",
      "O\n",
      "C\n",
      "C\n",
      "O\n",
      "O\n",
      "O\n",
      "O\n",
      "C\n",
      "O\n",
      "C\n",
      "C\n",
      "O\n",
      "C\n",
      "O\n",
      "O\n",
      "O\n",
      "O\n",
      "O\n",
      "O\n",
      "C\n",
      "C\n",
      "C\n",
      "O\n",
      "O\n",
      "O\n",
      "C\n",
      "O\n",
      "C\n",
      "O\n",
      "O\n",
      "C\n",
      "O\n",
      "O\n",
      "O\n",
      "C\n",
      "O\n",
      "O\n",
      "O\n",
      "O\n",
      "C\n",
      "O\n",
      "C\n",
      "C\n",
      "O\n",
      "C\n",
      "O\n",
      "C\n",
      "O\n",
      "C\n",
      "O\n",
      "O\n",
      "C\n",
      "O\n",
      "O\n",
      "C\n",
      "O\n",
      "O\n",
      "C\n",
      "O\n",
      "O\n",
      "O\n",
      "O\n",
      "O\n",
      "O\n",
      "O\n",
      "O\n",
      "O\n",
      "C\n",
      "C\n",
      "O\n",
      "O\n",
      "C\n",
      "O\n",
      "O\n",
      "C\n",
      "O\n",
      "C\n",
      "C\n",
      "O\n",
      "O\n",
      "O\n",
      "O\n",
      "C\n",
      "O\n",
      "O\n",
      "O\n",
      "O\n",
      "O\n",
      "O\n",
      "O\n",
      "O\n",
      "C\n",
      "C\n",
      "O\n",
      "C\n",
      "C\n",
      "O\n",
      "O\n",
      "C\n",
      "C\n",
      "O\n",
      "C\n",
      "O\n",
      "O\n",
      "O\n",
      "O\n",
      "O\n",
      "C\n",
      "O\n",
      "C\n",
      "O\n",
      "C\n",
      "O\n",
      "O\n",
      "O\n",
      "O\n",
      "O\n",
      "O\n",
      "O\n",
      "C\n",
      "O\n",
      "O\n",
      "C\n",
      "C\n",
      "O\n",
      "C\n",
      "O\n",
      "O\n",
      "C\n",
      "C\n",
      "C\n",
      "O\n",
      "O\n",
      "O\n",
      "O\n",
      "O\n",
      "O\n",
      "O\n",
      "O\n",
      "C\n",
      "O\n",
      "O\n",
      "O\n",
      "C\n",
      "Termine\n"
     ]
    }
   ],
   "source": [
    "while n-1:\n",
    "    ea = np.random.choice([0,1],p=M[ea])\n",
    "    print(estado[ea])\n",
    "    n-=1\n",
    "print('Termine')"
   ]
  },
  {
   "cell_type": "code",
   "execution_count": 15,
   "id": "b1cab087-1b90-4cd4-8d4e-ca156e8cc5bc",
   "metadata": {
    "tags": []
   },
   "outputs": [
    {
     "data": {
      "text/plain": [
       "(array([ 1. +0.j, -0.1+0.j]),\n",
       " array([[ 0.70710678, -0.49613894],\n",
       "        [ 0.70710678,  0.86824314]]))"
      ]
     },
     "execution_count": 15,
     "metadata": {},
     "output_type": "execute_result"
    }
   ],
   "source": [
    "scipy.linalg.eig(M)"
   ]
  },
  {
   "cell_type": "code",
   "execution_count": 16,
   "id": "f977d1bd-0579-49b8-ba12-7df952fcd463",
   "metadata": {
    "tags": []
   },
   "outputs": [],
   "source": [
    "def esMarkov(m):\n",
    "    for i in range(0,len(m)):\n",
    "        sm=0\n",
    "        for j in range(0,len(m[i])):\n",
    "            sm=sm+m[i][j]\n",
    "        if sm != 1:\n",
    "            return False\n",
    "        else:\n",
    "            return True\n",
    "        \n",
    "        "
   ]
  },
  {
   "cell_type": "code",
   "execution_count": 18,
   "id": "1e8a9ce4-78d1-42ad-9d6d-c0d9a3a374f5",
   "metadata": {
    "tags": []
   },
   "outputs": [],
   "source": [
    "m=np.array([[0,0,1],[0.5,0,0.5],[1,0,0]])"
   ]
  },
  {
   "cell_type": "code",
   "execution_count": 19,
   "id": "1d6e0660-6109-48e0-a1f7-e79e3f9e8f0c",
   "metadata": {
    "tags": []
   },
   "outputs": [
    {
     "data": {
      "text/plain": [
       "True"
      ]
     },
     "execution_count": 19,
     "metadata": {},
     "output_type": "execute_result"
    }
   ],
   "source": [
    "esMarkov(m)"
   ]
  },
  {
   "cell_type": "code",
   "execution_count": 48,
   "id": "1086e30e-0eeb-452e-96a5-80a9e7ec2cc4",
   "metadata": {
    "tags": []
   },
   "outputs": [],
   "source": [
    "m2=np.array([np.random.random(3),np.random.random(3),np.random.random(3)])"
   ]
  },
  {
   "cell_type": "code",
   "execution_count": 49,
   "id": "8d37920c-b0c4-4155-8158-d1127b7f82bc",
   "metadata": {
    "tags": []
   },
   "outputs": [
    {
     "data": {
      "text/plain": [
       "array([[0.02461559, 0.02128122, 0.21289718],\n",
       "       [0.48737356, 0.44257356, 0.81962619],\n",
       "       [0.15894971, 0.75049139, 0.33497138]])"
      ]
     },
     "execution_count": 49,
     "metadata": {},
     "output_type": "execute_result"
    }
   ],
   "source": [
    "m2"
   ]
  },
  {
   "cell_type": "code",
   "execution_count": 50,
   "id": "6ca41c93-f0d3-452e-8846-7460437af697",
   "metadata": {
    "tags": []
   },
   "outputs": [
    {
     "data": {
      "text/plain": [
       "False"
      ]
     },
     "execution_count": 50,
     "metadata": {},
     "output_type": "execute_result"
    }
   ],
   "source": [
    "esMarkov(m2)"
   ]
  },
  {
   "cell_type": "code",
   "execution_count": 66,
   "id": "c7db2bcc-8929-4b2a-8a7e-44826c80ff39",
   "metadata": {
    "tags": []
   },
   "outputs": [],
   "source": [
    "def queProba(G,N,F,S,T):\n",
    "    P=[[0 for i in range (T+1)]for j in range(N+1)]\n",
    "    P[S][0]=1.\n",
    "    for i in range(1,T+1):\n",
    "        for j in range(1,N+1):\n",
    "            for k in G[j]:\n",
    "                P[j][i]+=k[1]*P[k[0]][i-1]\n",
    "    return P[F][T]\n",
    "    \n",
    "    "
   ]
  },
  {
   "cell_type": "code",
   "execution_count": 67,
   "id": "4396d658-388f-4461-ba8e-ce2ce95e6d12",
   "metadata": {
    "tags": []
   },
   "outputs": [],
   "source": [
    "G=[0 for i in range(7)]"
   ]
  },
  {
   "cell_type": "code",
   "execution_count": 68,
   "id": "9d59f15a-0bad-40fc-bc63-483c78025b48",
   "metadata": {
    "tags": []
   },
   "outputs": [
    {
     "data": {
      "text/plain": [
       "[0, 0, 0, 0, 0, 0, 0]"
      ]
     },
     "execution_count": 68,
     "metadata": {},
     "output_type": "execute_result"
    }
   ],
   "source": [
    "G"
   ]
  },
  {
   "cell_type": "code",
   "execution_count": 69,
   "id": "2303d625-036b-453c-be4e-4ec8639aeb0f",
   "metadata": {
    "tags": []
   },
   "outputs": [],
   "source": [
    "G[1]=[[2,0.09]]\n",
    "G[2]=[[1,0.23],[6,0.62]]\n",
    "G[3]=[[2,0.06]]\n",
    "G[4]=[[1,0.77],[3,0.63]]\n",
    "G[5]=[[4,0.65],[6,0.38]]\n",
    "G[6]=[[2,0.85],[3,0.37],[4,0.35],[5,1.]]"
   ]
  },
  {
   "cell_type": "code",
   "execution_count": 70,
   "id": "417b886b-eed7-4e61-9b0e-6ac65f5101bd",
   "metadata": {
    "tags": []
   },
   "outputs": [
    {
     "data": {
      "text/plain": [
       "[0,\n",
       " [[2, 0.09]],\n",
       " [[1, 0.23], [6, 0.62]],\n",
       " [[2, 0.06]],\n",
       " [[1, 0.77], [3, 0.63]],\n",
       " [[4, 0.65], [6, 0.38]],\n",
       " [[2, 0.85], [3, 0.37], [4, 0.35], [5, 1.0]]]"
      ]
     },
     "execution_count": 70,
     "metadata": {},
     "output_type": "execute_result"
    }
   ],
   "source": [
    "G"
   ]
  },
  {
   "cell_type": "code",
   "execution_count": 73,
   "id": "71a6383f-342b-41c1-9627-48e64f96b4c9",
   "metadata": {
    "tags": []
   },
   "outputs": [],
   "source": [
    "N=6\n",
    "S=4\n",
    "F=2\n",
    "T=10"
   ]
  },
  {
   "cell_type": "code",
   "execution_count": 82,
   "id": "26b2a581-3d94-4a4d-8e98-111f703976eb",
   "metadata": {
    "tags": []
   },
   "outputs": [
    {
     "data": {
      "text/plain": [
       "0.1454087668"
      ]
     },
     "execution_count": 82,
     "metadata": {},
     "output_type": "execute_result"
    }
   ],
   "source": [
    "queProba(G,N,5,S,6)"
   ]
  },
  {
   "cell_type": "code",
   "execution_count": null,
   "id": "53d8828a-96b7-4221-9d88-6c2b67743bc4",
   "metadata": {},
   "outputs": [],
   "source": []
  },
  {
   "cell_type": "code",
   "execution_count": null,
   "id": "89637f25-48a1-49f5-898b-0fe021119f63",
   "metadata": {},
   "outputs": [],
   "source": []
  }
 ],
 "metadata": {
  "kernelspec": {
   "display_name": "Python 3",
   "language": "python",
   "name": "python3"
  },
  "language_info": {
   "codemirror_mode": {
    "name": "ipython",
    "version": 3
   },
   "file_extension": ".py",
   "mimetype": "text/x-python",
   "name": "python",
   "nbconvert_exporter": "python",
   "pygments_lexer": "ipython3",
   "version": "3.9.2"
  }
 },
 "nbformat": 4,
 "nbformat_minor": 5
}
