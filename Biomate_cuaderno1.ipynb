{
  "nbformat": 4,
  "nbformat_minor": 0,
  "metadata": {
    "colab": {
      "private_outputs": true,
      "provenance": [],
      "authorship_tag": "ABX9TyNREwiTEiKsDyNho50YqB5P",
      "include_colab_link": true
    },
    "kernelspec": {
      "name": "python3",
      "display_name": "Python 3"
    },
    "language_info": {
      "name": "python"
    }
  },
  "cells": [
    {
      "cell_type": "markdown",
      "metadata": {
        "id": "view-in-github",
        "colab_type": "text"
      },
      "source": [
        "<a href=\"https://colab.research.google.com/github/acb100cias/BioMateFC/blob/master/Biomate_cuaderno1.ipynb\" target=\"_parent\"><img src=\"https://colab.research.google.com/assets/colab-badge.svg\" alt=\"Open In Colab\"/></a>"
      ]
    },
    {
      "cell_type": "code",
      "execution_count": null,
      "metadata": {
        "id": "5MjeQ8Z8XxTI"
      },
      "outputs": [],
      "source": [
        "import numpy as np\n",
        "import scipy.integrate as integrate\n",
        "import matplotlib.pyplot as plt\n"
      ]
    },
    {
      "cell_type": "code",
      "source": [
        "def f(x,t):\n",
        "  return r*x"
      ],
      "metadata": {
        "id": "1SkvIuamYR-F"
      },
      "execution_count": null,
      "outputs": []
    },
    {
      "cell_type": "code",
      "source": [
        "r=0.4\n",
        "f(10,0)"
      ],
      "metadata": {
        "id": "X2vrs-tWYuXQ"
      },
      "execution_count": null,
      "outputs": []
    },
    {
      "cell_type": "code",
      "source": [
        "T=np.arange(0,10,0.01)"
      ],
      "metadata": {
        "id": "v8DXBVFPY080"
      },
      "execution_count": null,
      "outputs": []
    },
    {
      "cell_type": "code",
      "source": [
        "T"
      ],
      "metadata": {
        "id": "70uIk0hBZNLX"
      },
      "execution_count": null,
      "outputs": []
    },
    {
      "cell_type": "code",
      "source": [
        "X0=1"
      ],
      "metadata": {
        "id": "9tVxAHScZNwL"
      },
      "execution_count": null,
      "outputs": []
    },
    {
      "cell_type": "code",
      "source": [
        "sol=integrate.odeint(f,X0,T)"
      ],
      "metadata": {
        "id": "hfgVQ2e8ZXuI"
      },
      "execution_count": null,
      "outputs": []
    },
    {
      "cell_type": "code",
      "source": [
        "sol"
      ],
      "metadata": {
        "id": "ESqENO0nZghl"
      },
      "execution_count": null,
      "outputs": []
    },
    {
      "cell_type": "code",
      "source": [
        "plt.plot(T,sol)"
      ],
      "metadata": {
        "id": "HiMft_eWZhdY"
      },
      "execution_count": null,
      "outputs": []
    },
    {
      "cell_type": "code",
      "source": [
        "for ci in [0.5,1,12,25]:\n",
        "  X0=ci\n",
        "  sol=integrate.odeint(f,X0,T)\n",
        "  plt.plot(T,sol,label=f'X0={ci}')\n",
        "plt.legend()"
      ],
      "metadata": {
        "id": "iUrnOv81Z3bj"
      },
      "execution_count": null,
      "outputs": []
    },
    {
      "cell_type": "code",
      "source": [
        "def g(x,t):\n",
        "  return r*x*(1-x/K)\n"
      ],
      "metadata": {
        "id": "46d_Gytab_X3"
      },
      "execution_count": null,
      "outputs": []
    },
    {
      "cell_type": "code",
      "source": [
        "K=40\n",
        "X0=40.09\n",
        "T=np.arange(0,50,0.01)\n",
        "sol=integrate.odeint(g,X0,T)\n",
        "plt.plot(T,sol)"
      ],
      "metadata": {
        "id": "WwTnveIJctlP"
      },
      "execution_count": null,
      "outputs": []
    },
    {
      "cell_type": "code",
      "source": [
        "for ci in [12,25,40,45]:\n",
        "  X0=ci\n",
        "  sol=integrate.odeint(g,X0,T)\n",
        "  plt.plot(T,sol,label=f'X0={ci}')\n",
        "plt.legend()\n"
      ],
      "metadata": {
        "id": "F1uCG3EFc-3m"
      },
      "execution_count": null,
      "outputs": []
    },
    {
      "cell_type": "code",
      "source": [
        "for ci in np.arange(10,50,2):\n",
        "  X0=ci\n",
        "  sol=integrate.odeint(g,X0,T)\n",
        "  plt.plot(T,sol,label=f'X0={ci}')\n"
      ],
      "metadata": {
        "id": "cH3K458MdcOo"
      },
      "execution_count": null,
      "outputs": []
    },
    {
      "cell_type": "code",
      "source": [
        "def h(x,t):\n",
        "  return r*x*(1-x/K)*(1-x/N)"
      ],
      "metadata": {
        "id": "zNhWoGiRd24p"
      },
      "execution_count": null,
      "outputs": []
    },
    {
      "cell_type": "code",
      "source": [
        "N=5\n",
        "X0=34\n",
        "sol=integrate.odeint(h,X0,T)\n",
        "plt.plot(T,sol)"
      ],
      "metadata": {
        "id": "-AaSkvIxeP6p"
      },
      "execution_count": null,
      "outputs": []
    },
    {
      "cell_type": "code",
      "source": [],
      "metadata": {
        "id": "XW2knF5VeVki"
      },
      "execution_count": null,
      "outputs": []
    }
  ]
}