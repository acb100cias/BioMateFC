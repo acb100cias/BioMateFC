{
  "nbformat": 4,
  "nbformat_minor": 0,
  "metadata": {
    "colab": {
      "private_outputs": true,
      "provenance": [],
      "authorship_tag": "ABX9TyM9BPEuGbhDxdddvyHEkhwt",
      "include_colab_link": true
    },
    "kernelspec": {
      "name": "python3",
      "display_name": "Python 3"
    },
    "language_info": {
      "name": "python"
    }
  },
  "cells": [
    {
      "cell_type": "markdown",
      "metadata": {
        "id": "view-in-github",
        "colab_type": "text"
      },
      "source": [
        "<a href=\"https://colab.research.google.com/github/acb100cias/BioMateFC/blob/master/Volterra2025.ipynb\" target=\"_parent\"><img src=\"https://colab.research.google.com/assets/colab-badge.svg\" alt=\"Open In Colab\"/></a>"
      ]
    },
    {
      "cell_type": "code",
      "execution_count": null,
      "metadata": {
        "id": "seAjWkjGMB1T"
      },
      "outputs": [],
      "source": [
        "from numpy import *\n",
        "from matplotlib.pyplot import *\n",
        "from scipy.integrate import *"
      ]
    },
    {
      "cell_type": "code",
      "source": [
        "a=1.0\n",
        "b=0.1\n",
        "c=1.5\n",
        "d=0.75"
      ],
      "metadata": {
        "id": "RgvB0N8MNHLB"
      },
      "execution_count": null,
      "outputs": []
    },
    {
      "cell_type": "code",
      "source": [
        "def dX(X,t):\n",
        "  return array([a*X[0]-b*X[0]*X[1],-c*X[1]+d*X[1]*X[0]])"
      ],
      "metadata": {
        "id": "Lbymll3WNXZG"
      },
      "execution_count": null,
      "outputs": []
    },
    {
      "cell_type": "code",
      "source": [
        "E0=array([0.0,0.0])\n",
        "E1=array([c/d,a/b])"
      ],
      "metadata": {
        "id": "N-2_qCRcOGQ2"
      },
      "execution_count": null,
      "outputs": []
    },
    {
      "cell_type": "code",
      "source": [
        "def M(X,t):\n",
        "  return array([[a-b*X[1],-b*X[0]],\n",
        "   [b*X[1],-c+d*X[0]]])\n"
      ],
      "metadata": {
        "id": "4xloiLTmOfFa"
      },
      "execution_count": null,
      "outputs": []
    },
    {
      "cell_type": "code",
      "source": [
        "M(E0,0)"
      ],
      "metadata": {
        "id": "e2Bq5T1KPKlC"
      },
      "execution_count": null,
      "outputs": []
    },
    {
      "cell_type": "code",
      "source": [
        "M(E1,0)"
      ],
      "metadata": {
        "id": "qEHBlp7KPS0R"
      },
      "execution_count": null,
      "outputs": []
    },
    {
      "cell_type": "code",
      "source": [
        "linalg.eigvals(M(E0,0))"
      ],
      "metadata": {
        "id": "w60FIs5kPdKA"
      },
      "execution_count": null,
      "outputs": []
    },
    {
      "cell_type": "code",
      "source": [
        "linalg.eigvals(M(E1,0))"
      ],
      "metadata": {
        "id": "SaCNWg_bPl27"
      },
      "execution_count": null,
      "outputs": []
    },
    {
      "cell_type": "code",
      "source": [
        "t=linspace(0,15,1000)\n",
        "X0=array([10.,5.])\n",
        "Sol=odeint(dX,X0,t)"
      ],
      "metadata": {
        "id": "tRef6F3HPpcq"
      },
      "execution_count": null,
      "outputs": []
    },
    {
      "cell_type": "code",
      "source": [
        "Sol"
      ],
      "metadata": {
        "id": "52P71pFTQW5Z"
      },
      "execution_count": null,
      "outputs": []
    },
    {
      "cell_type": "code",
      "source": [
        "Sol.T"
      ],
      "metadata": {
        "id": "UGAXfioFQYfu"
      },
      "execution_count": null,
      "outputs": []
    },
    {
      "cell_type": "code",
      "source": [
        "Sol.T[1]"
      ],
      "metadata": {
        "id": "68m-C-BAQoj9"
      },
      "execution_count": null,
      "outputs": []
    },
    {
      "cell_type": "code",
      "source": [
        "presas,depredadores = Sol.T"
      ],
      "metadata": {
        "id": "pBMx6i5aQuWj"
      },
      "execution_count": null,
      "outputs": []
    },
    {
      "cell_type": "code",
      "source": [
        "presas"
      ],
      "metadata": {
        "id": "XQEx25k2RBTk"
      },
      "execution_count": null,
      "outputs": []
    },
    {
      "cell_type": "code",
      "source": [
        "depredadores"
      ],
      "metadata": {
        "id": "8bBrBDgkRCL3"
      },
      "execution_count": null,
      "outputs": []
    },
    {
      "cell_type": "code",
      "source": [
        "plot(t,presas,label='presas')\n",
        "plot(t,depredadores,label='depredadores')\n",
        "xlabel('Tiempo')\n",
        "ylabel('Población')\n",
        "legend(loc='best')\n"
      ],
      "metadata": {
        "id": "U-wyHoE5RFEM"
      },
      "execution_count": null,
      "outputs": []
    },
    {
      "cell_type": "code",
      "source": [
        "plot(presas,depredadores)\n",
        "xlabel('presas')\n",
        "ylabel('depredadores')"
      ],
      "metadata": {
        "id": "5e8HlVZJRUYV"
      },
      "execution_count": null,
      "outputs": []
    },
    {
      "cell_type": "code",
      "source": [
        "values  = linspace(0.3, 0.9, 5)\n",
        "vcolors = cm.jet(linspace(0.3, 1., len(values)))\n",
        "\n",
        "for v, col in zip(values, vcolors):\n",
        "    X0 = v * E1\n",
        "    X = odeint( dX, X0, t)\n",
        "    plot( X[:,0], X[:,1], lw=3.5*v, color=col, label='X0=(%.f, %.f)' % ( X0[0], X0[1]) )\n",
        "\n",
        "ymax = ylim(ymin=0)[1]\n",
        "xmax = xlim(xmin=0)[1]\n",
        "nb_points   = 20\n",
        "\n",
        "x = linspace(0, xmax, nb_points)\n",
        "y = linspace(0, ymax, nb_points)\n",
        "\n",
        "X1 , Y1  = meshgrid(x, y)\n",
        "DX1, DY1 = dX([X1, Y1], 0) # Pass a dummy time argument\n",
        "M = (hypot(DX1, DY1))\n",
        "M[ M == 0] = 1.\n",
        "DX1 /= M\n",
        "DY1 /= M\n",
        "\n",
        "title('Trayectorias y campo de direcciones en el plano-fase')\n",
        "Q = quiver(X1, Y1, DX1, DY1, M, pivot='mid', cmap=cm.jet)\n",
        "xlabel('Presa')\n",
        "ylabel('Depredador')\n",
        "legend()\n",
        "xlim(0, xmax)\n",
        "ylim(0, ymax)"
      ],
      "metadata": {
        "id": "vB6qrkZ0Rgv3"
      },
      "execution_count": null,
      "outputs": []
    },
    {
      "cell_type": "code",
      "source": [
        "values  = linspace(0.3, 0.9, 5)\n",
        "vcolors = cm.jet(linspace(0.3, 1., len(values)))\n",
        "\n",
        "for v, col in zip(values, vcolors):\n",
        "    X0 = v * E1\n",
        "    X = odeint( dX, X0, t)\n",
        "    plot( X[:,0], X[:,1], lw=3.5*v, color=col, label='X0=(%.f, %.f)' % ( X0[0], X0[1]) )\n",
        "\n",
        "ymax = ylim(ymin=0)[1]\n",
        "xmax = xlim(xmin=0)[1]\n",
        "nb_points   = 20\n",
        "\n",
        "x = linspace(0, xmax, nb_points)\n",
        "y = linspace(0, ymax, nb_points)\n",
        "\n",
        "X1 , Y1  = meshgrid(x, y)\n",
        "DX1, DY1 = dX([X1, Y1],t)\n",
        "M = (hypot(DX1, DY1))\n",
        "M[ M == 0] = 1.\n",
        "DX1 /= M\n",
        "DY1 /= M\n",
        "\n",
        "title('Trayectorias y campo de direcciones en el plano-fase')\n",
        "Q = quiver(X1, Y1, DX1, DY1, M, pivot='mid', cmap=cm.jet)\n",
        "xlabel('Presa')\n",
        "ylabel('Depredador')\n",
        "legend()\n",
        "xlim(0, xmax)\n",
        "ylim(0, ymax)"
      ],
      "metadata": {
        "id": "NTZ7_XRcSz85"
      },
      "execution_count": null,
      "outputs": []
    },
    {
      "cell_type": "code",
      "source": [],
      "metadata": {
        "id": "6VpWdupOTXmA"
      },
      "execution_count": null,
      "outputs": []
    }
  ]
}