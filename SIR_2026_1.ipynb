{
  "nbformat": 4,
  "nbformat_minor": 0,
  "metadata": {
    "colab": {
      "private_outputs": true,
      "provenance": [],
      "authorship_tag": "ABX9TyP5HR/epiIkpSNpBWJnOoca",
      "include_colab_link": true
    },
    "kernelspec": {
      "name": "python3",
      "display_name": "Python 3"
    },
    "language_info": {
      "name": "python"
    }
  },
  "cells": [
    {
      "cell_type": "markdown",
      "metadata": {
        "id": "view-in-github",
        "colab_type": "text"
      },
      "source": [
        "<a href=\"https://colab.research.google.com/github/acb100cias/BioMateFC/blob/master/SIR_2026_1.ipynb\" target=\"_parent\"><img src=\"https://colab.research.google.com/assets/colab-badge.svg\" alt=\"Open In Colab\"/></a>"
      ]
    },
    {
      "cell_type": "code",
      "execution_count": null,
      "metadata": {
        "id": "IH7TJs6nPvAg"
      },
      "outputs": [],
      "source": [
        "import numpy as np\n",
        "import matplotlib.pyplot as plt\n",
        "import scipy.integrate as sci"
      ]
    },
    {
      "cell_type": "code",
      "source": [
        "def SIR(y, t, N ,beta, gamma):\n",
        "    S, I, R = y\n",
        "    dS=-beta*S*I/N\n",
        "    dI=beta*S*I/N-gamma*I\n",
        "    dR=gamma*I\n",
        "    return dS, dI, dR"
      ],
      "metadata": {
        "id": "savGUpsXQCLA"
      },
      "execution_count": null,
      "outputs": []
    },
    {
      "cell_type": "code",
      "source": [
        "def plotSol(S,I,R,t,divide_by=1):\n",
        "  fig,ax=plt.subplots()\n",
        "  ax.plot(t,S/divide_by,'b', label='Suseptible')\n",
        "  ax.plot(t,I/divide_by,'r',label='Infeccioso')\n",
        "  ax.plot(t,R/divide_by,'g',label='Removido')\n",
        "  ax.set_xlabel('Tiempo')\n",
        "  ax.set_ylabel(r'Poblacion normalizada (%d)'%divide_by)\n",
        "  ax.set_title('SIR')\n",
        "  ax.legend()\n",
        "  plt.show()"
      ],
      "metadata": {
        "id": "3lu5fknDQjsF"
      },
      "execution_count": null,
      "outputs": []
    },
    {
      "cell_type": "code",
      "source": [
        "N=120000000\n",
        "I0=10000\n",
        "R0=0\n",
        "S0=N-I0-R0\n",
        "beta=0.5\n",
        "gamma=0.02\n",
        "\n",
        "t=np.linspace(0,365,365)\n",
        "\n",
        "y0=S0,I0,R0"
      ],
      "metadata": {
        "id": "EgD-EKvbRoLV"
      },
      "execution_count": null,
      "outputs": []
    },
    {
      "cell_type": "code",
      "source": [
        "sol=sci.odeint(SIR,y0,t,args=(N,beta,gamma))"
      ],
      "metadata": {
        "id": "BIVNxbSTSQBL"
      },
      "execution_count": null,
      "outputs": []
    },
    {
      "cell_type": "code",
      "source": [
        "S,I,R=sol.T\n",
        "plotSol(S,I,R,t)\n",
        "plotSol(S,I,R,t,divide_by=N)"
      ],
      "metadata": {
        "id": "CkeVWVFdSYIP"
      },
      "execution_count": null,
      "outputs": []
    },
    {
      "cell_type": "code",
      "source": [
        "def plotSolm(S, I, R, t, divide_by=1, death_rate=0.08):\n",
        "    # Dibujamos los datos de S(t), I(t) y R(t)\n",
        "    fig, ax = plt.subplots()\n",
        "    ax.plot(t, S / divide_by, 'b', alpha=0.5, lw=2, label='Susceptible')\n",
        "    ax.plot(t, I / divide_by, 'r', alpha=0.5, lw=2, label='Infectado')\n",
        "    RR = R * (1 - death_rate)\n",
        "    DD = R - RR\n",
        "    ax.plot(t, RR / divide_by, 'g', alpha=0.5, lw=2, label='Recuperado con inmunidad')\n",
        "    ax.plot(t, DD / divide_by, 'k', alpha=0.5, lw=2, label='No recuperado')\n",
        "    ax.set_xlabel(r'Tiempo')\n",
        "    ax.set_ylabel(r'Poblacion normalizada (%d)' %divide_by)\n",
        "    legend = ax.legend()\n",
        "    plt.show()"
      ],
      "metadata": {
        "id": "iFaeJ8fxSbUg"
      },
      "execution_count": null,
      "outputs": []
    },
    {
      "cell_type": "code",
      "source": [
        "plotSolm(S, I, R, t,divide_by=N)"
      ],
      "metadata": {
        "id": "f4nxFmHUT0Yp"
      },
      "execution_count": null,
      "outputs": []
    },
    {
      "cell_type": "code",
      "source": [
        "def SEIR(y, t, N ,beta,sigma, gamma,mu):\n",
        "    S,E, I, R = y\n",
        "    dS=L*N-beta*S*I/N-mu*S\n",
        "    dE=beta*S*I/N-sigma*E-mu*E\n",
        "    dI=sigma*E-gamma*I-mu*I\n",
        "    dR=gamma*I-mu*R\n",
        "    return dS, dE,dI, dR"
      ],
      "metadata": {
        "id": "fgMZU71pT5Z6"
      },
      "execution_count": null,
      "outputs": []
    },
    {
      "cell_type": "code",
      "source": [
        "N=120000000\n",
        "L=0.02\n",
        "sigma=0.8\n",
        "E0=10000\n",
        "I0=sigma*E0\n",
        "R0=0\n",
        "S0=N-E0-I0-R0\n",
        "beta=0.4\n",
        "gamma=0.01\n",
        "mu=0.01\n",
        "\n",
        "t=np.linspace(0,365,365)\n",
        "\n",
        "y0=S0,E0,I0,R0"
      ],
      "metadata": {
        "id": "mdzADHI8fJ_P"
      },
      "execution_count": null,
      "outputs": []
    },
    {
      "cell_type": "code",
      "source": [
        "sol=sci.odeint(SEIR,y0,t,args=(N,beta,sigma,gamma,mu))"
      ],
      "metadata": {
        "id": "3IZz_ulVfiAQ"
      },
      "execution_count": null,
      "outputs": []
    },
    {
      "cell_type": "code",
      "source": [
        "def plotSol(S,E,I,R,t,divide_by=1):\n",
        "  fig,ax=plt.subplots()\n",
        "  ax.plot(t,S/divide_by,'b', label='Suseptible')\n",
        "  ax.plot(t,E/divide_by,'grey',label='Expuesto')\n",
        "  ax.plot(t,I/divide_by,'r',label='Infeccioso')\n",
        "  ax.plot(t,R/divide_by,'g',label='Removido')\n",
        "  ax.set_xlabel('Tiempo')\n",
        "  ax.set_ylabel(r'Poblacion normalizada (%d)'%divide_by)\n",
        "  ax.set_title('SEIR')\n",
        "  ax.legend()\n",
        "  plt.show()"
      ],
      "metadata": {
        "id": "6Q4P0-LGfxzK"
      },
      "execution_count": null,
      "outputs": []
    },
    {
      "cell_type": "code",
      "source": [
        "S,E,I,R=sol.T\n",
        "plotSol(S,E,I,R,t)\n"
      ],
      "metadata": {
        "id": "u1WQqwmxgvMm"
      },
      "execution_count": null,
      "outputs": []
    },
    {
      "cell_type": "code",
      "source": [
        "def SEIAR(y, t, N ,beta,sigma, gamma,mu,q,p,l):\n",
        "    S,E, I,A,R = y\n",
        "    dS=L*N-beta*S*(I/N+q*A)-mu*S\n",
        "    dE=beta*S*(I/N+q*A)-sigma*E-mu*E\n",
        "    dI=p*sigma*E-gamma*I-mu*I\n",
        "    dA=(1-p)*sigma*E-l*A-mu*A\n",
        "    dR=gamma*I-mu*R\n",
        "    return dS, dE,dI, dA,dR"
      ],
      "metadata": {
        "id": "xxREj1gdg-wX"
      },
      "execution_count": null,
      "outputs": []
    },
    {
      "cell_type": "code",
      "source": [
        "N=120000000\n",
        "L=0.03\n",
        "sigma=0.6\n",
        "E0=10000\n",
        "p=0.3\n",
        "I0=p*sigma*E0\n",
        "A0=(1-p)*sigma*E0\n",
        "R0=0\n",
        "S0=N-E0-I0-R0\n",
        "beta=0.8\n",
        "gamma=0.03\n",
        "mu=0.01\n",
        "\n",
        "q=0.7\n",
        "l=0.2\n",
        "t=np.linspace(0,365,365)\n",
        "\n",
        "y0=S0,E0,I0,A0,R0"
      ],
      "metadata": {
        "id": "mokDo0Taj81M"
      },
      "execution_count": null,
      "outputs": []
    },
    {
      "cell_type": "code",
      "source": [
        "sol=sci.odeint(SEIAR,y0,t,args=(N,beta,sigma,gamma,mu,p,q,l))"
      ],
      "metadata": {
        "id": "4R-FngnRkbqG"
      },
      "execution_count": null,
      "outputs": []
    },
    {
      "cell_type": "code",
      "source": [
        "sol.T"
      ],
      "metadata": {
        "id": "UItfcT8Ckjj5"
      },
      "execution_count": null,
      "outputs": []
    },
    {
      "cell_type": "code",
      "source": [
        "def plotSol(S,E,I,A,R,t,divide_by=1):\n",
        "  fig,ax=plt.subplots()\n",
        "  ax.plot(t,S/divide_by,'b', label='Suseptible')\n",
        "  ax.plot(t,E/divide_by,'grey',label='Expuesto')\n",
        "  ax.plot(t,I/divide_by,'r',label='Infeccioso Sintomatico')\n",
        "  ax.plot(t,A/divide_by,'magenta',label='Infeccioso Asintomatico')\n",
        "  ax.plot(t,R/divide_by,'g',label='Removido')\n",
        "  ax.set_xlabel('Tiempo')\n",
        "  ax.set_ylabel(r'Poblacion normalizada (%d)'%divide_by)\n",
        "  ax.set_title('SEIAR')\n",
        "  ax.legend()\n",
        "  plt.show()"
      ],
      "metadata": {
        "id": "lOk9VU5PkuMY"
      },
      "execution_count": null,
      "outputs": []
    },
    {
      "cell_type": "code",
      "source": [
        "S,E,I,A,R=sol.T\n",
        "plotSol(S,E,I,A,R,t)"
      ],
      "metadata": {
        "id": "pq6G06sPlFW9"
      },
      "execution_count": null,
      "outputs": []
    },
    {
      "cell_type": "code",
      "source": [],
      "metadata": {
        "id": "gNLg5VcYlKNd"
      },
      "execution_count": null,
      "outputs": []
    }
  ]
}