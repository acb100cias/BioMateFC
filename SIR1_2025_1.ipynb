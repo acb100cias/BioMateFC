{
  "nbformat": 4,
  "nbformat_minor": 0,
  "metadata": {
    "colab": {
      "private_outputs": true,
      "provenance": [],
      "authorship_tag": "ABX9TyNJFzGWb9FvZuWob5L7GrC3",
      "include_colab_link": true
    },
    "kernelspec": {
      "name": "python3",
      "display_name": "Python 3"
    },
    "language_info": {
      "name": "python"
    }
  },
  "cells": [
    {
      "cell_type": "markdown",
      "metadata": {
        "id": "view-in-github",
        "colab_type": "text"
      },
      "source": [
        "<a href=\"https://colab.research.google.com/github/acb100cias/BioMateFC/blob/master/SIR1_2025_1.ipynb\" target=\"_parent\"><img src=\"https://colab.research.google.com/assets/colab-badge.svg\" alt=\"Open In Colab\"/></a>"
      ]
    },
    {
      "cell_type": "code",
      "execution_count": null,
      "metadata": {
        "id": "wfqxcA4t9q5p"
      },
      "outputs": [],
      "source": [
        "import numpy as np\n",
        "import scipy.integrate as ig\n",
        "import matplotlib.pyplot as plt"
      ]
    },
    {
      "cell_type": "code",
      "source": [
        "def sir(y,t,N,beta,gamma):\n",
        "  S,I,R=y\n",
        "  dS=-beta*S*I/N\n",
        "  dI=beta*S*I/N-gamma*I\n",
        "  dR=gamma*I\n",
        "  return dS, dI, dR"
      ],
      "metadata": {
        "id": "j9Wa1KiM9-Gt"
      },
      "execution_count": null,
      "outputs": []
    },
    {
      "cell_type": "code",
      "source": [
        "N=123000000\n",
        "I0=10000\n",
        "R0=0\n",
        "S0=N-I0-R0\n",
        "beta=0.6\n",
        "gamma=0.02\n",
        "t=np.linspace(0,365,365)\n",
        "y0=S0,I0,R0"
      ],
      "metadata": {
        "id": "2B_MRqLi_N5e"
      },
      "execution_count": null,
      "outputs": []
    },
    {
      "cell_type": "code",
      "source": [
        "sol=ig.odeint(sir,y0,t,args=(N,beta,gamma))"
      ],
      "metadata": {
        "id": "Vc7NUtWtADRc"
      },
      "execution_count": null,
      "outputs": []
    },
    {
      "cell_type": "code",
      "source": [
        "Y=sol.T"
      ],
      "metadata": {
        "id": "Jp3mhJa-AVrA"
      },
      "execution_count": null,
      "outputs": []
    },
    {
      "cell_type": "code",
      "source": [
        "S,I,R=Y"
      ],
      "metadata": {
        "id": "wiqRS8koAWxt"
      },
      "execution_count": null,
      "outputs": []
    },
    {
      "cell_type": "code",
      "source": [
        "plt.plot(t,S,label='Suceptibles')\n",
        "plt.plot(t,I,label='Infecciosos',c='r')\n",
        "plt.plot(t,R,label='Removidos',c='g')\n",
        "plt.xlabel(r'Dìas')\n",
        "plt.ylabel(r'poblaciòn $x10⁸$')\n",
        "plt.legend()"
      ],
      "metadata": {
        "id": "APlS_wmCAov_"
      },
      "execution_count": null,
      "outputs": []
    },
    {
      "cell_type": "code",
      "source": [
        "plt.plot(S,I)"
      ],
      "metadata": {
        "id": "zJCOeMlYArn0"
      },
      "execution_count": null,
      "outputs": []
    },
    {
      "cell_type": "code",
      "source": [
        "B=np.arange(0.1,1,0.2)\n",
        "C=np.arange(0.02,0.2,0.04)\n",
        "plt.figure(figsize=(20,10))\n",
        "for i in B:\n",
        "  for j in C:\n",
        "    sol=ig.odeint(sir,y0,t,args=(N,i,j))\n",
        "    S,I,R=sol.T\n",
        "    plt.plot(S,I,label=r'$\\beta=$%f,$\\gamma=$%f'%(i,j))\n",
        "  plt.xlabel(r'$S(t)$')\n",
        "  plt.ylabel(r'$I(t)$')\n",
        "  plt.legend()\n",
        "  plt.title('Plano Fase')"
      ],
      "metadata": {
        "id": "1DkPaCsaCOqB"
      },
      "execution_count": null,
      "outputs": []
    },
    {
      "cell_type": "code",
      "source": [],
      "metadata": {
        "id": "S6je4TC8D4za"
      },
      "execution_count": null,
      "outputs": []
    }
  ]
}