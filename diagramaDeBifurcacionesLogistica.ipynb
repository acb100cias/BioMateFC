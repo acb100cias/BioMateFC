{
  "nbformat": 4,
  "nbformat_minor": 0,
  "metadata": {
    "colab": {
      "private_outputs": true,
      "provenance": [],
      "authorship_tag": "ABX9TyM5WUsWRlUc72wSgUJGocz9",
      "include_colab_link": true
    },
    "kernelspec": {
      "name": "python3",
      "display_name": "Python 3"
    },
    "language_info": {
      "name": "python"
    }
  },
  "cells": [
    {
      "cell_type": "markdown",
      "metadata": {
        "id": "view-in-github",
        "colab_type": "text"
      },
      "source": [
        "<a href=\"https://colab.research.google.com/github/acb100cias/BioMateFC/blob/master/diagramaDeBifurcacionesLogistica.ipynb\" target=\"_parent\"><img src=\"https://colab.research.google.com/assets/colab-badge.svg\" alt=\"Open In Colab\"/></a>"
      ]
    },
    {
      "cell_type": "code",
      "source": [
        "from numpy import *\n",
        "from matplotlib.pyplot import *"
      ],
      "metadata": {
        "id": "3yhsAcbrboFX"
      },
      "execution_count": null,
      "outputs": []
    },
    {
      "cell_type": "code",
      "execution_count": null,
      "metadata": {
        "id": "34AYWSUebgpd"
      },
      "outputs": [],
      "source": [
        "def initialize():\n",
        "    global x, result\n",
        "    x = 0.1\n",
        "    result = []\n",
        "\n",
        "def observe():\n",
        "    global x, result\n",
        "    result.append(x)\n",
        "\n",
        "def update():\n",
        "    global x, result\n",
        "    x = r * x * (1 - x)\n",
        "\n",
        "def plot_asymptotic_states():\n",
        "    initialize()\n",
        "    for t in range(100): # first 100 steps are discarded\n",
        "        update()\n",
        "    for t in range(100): # second 100 steps are collected\n",
        "        update()\n",
        "        observe()\n",
        "    plot([r] * 100, result, 'b.', alpha = 0.3)\n",
        "\n"
      ]
    },
    {
      "cell_type": "code",
      "source": [
        "figure(figsize=(20,10))\n",
        "for r in arange(0, 4, 0.1):\n",
        "    plot_asymptotic_states()\n",
        "\n",
        "xlabel('r')\n",
        "ylabel('x')\n",
        "show()\n"
      ],
      "metadata": {
        "id": "MqD1jwEpbkJa"
      },
      "execution_count": null,
      "outputs": []
    },
    {
      "cell_type": "code",
      "source": [
        "n = 10000\n",
        "r = np.linspace(2.5, 4.0, n)\n",
        "iterations = 1000\n",
        "last = 100\n",
        "x = 1e-5 * np.ones(n)\n",
        "lyapunov = np.zeros(n)\n",
        "def f(r,x):\n",
        "    return r*x*(1-x)\n",
        "fig, ax1 = subplots(1, 1, figsize=(20, 15),\n",
        "                               sharex=True)\n",
        "for i in range(iterations):\n",
        "    x = f(r, x)\n",
        "    # We compute the partial sum of the\n",
        "    # Lyapunov exponent.\n",
        "    lyapunov += np.log(abs(r - 2 * r * x))\n",
        "    # We display the bifurcation diagram.\n",
        "    if i >= (iterations - last):\n",
        "        ax1.plot(r, x, ',k', alpha=.25)\n",
        "ax1.set_xlim(2.5, 4)\n",
        "ax1.set_title(\"Bifurcation diagram\")\n",
        "\n",
        "tight_layout()"
      ],
      "metadata": {
        "id": "EQUR_x1JeJqP"
      },
      "execution_count": null,
      "outputs": []
    },
    {
      "cell_type": "code",
      "source": [
        "import math\n",
        "from PIL import Image\n",
        "imgx = 1000\n",
        "imgy = 500\n",
        "image = Image.new(\"RGB\", (imgx, imgy))\n",
        "\n",
        "xa = 2.9\n",
        "xb = 4.0\n",
        "maxit = 1000\n",
        "\n",
        "for i in range(imgx):\n",
        "    r = xa + (xb - xa) * float(i) / (imgx - 1)\n",
        "    x = 0.5\n",
        "    for j in range(maxit):\n",
        "        x = r * x * (1 - x)\n",
        "        if j > maxit / 2:\n",
        "            image.putpixel((i, int(x * imgy)), (255, 255, 255))\n",
        "\n",
        "image\n",
        "#image.save(\"Bifurcation.png\", \"PNG\")\n"
      ],
      "metadata": {
        "id": "fNUixMUCeQ9e"
      },
      "execution_count": null,
      "outputs": []
    },
    {
      "cell_type": "code",
      "source": [
        "P=linspace(0.7,4,10000)\n",
        "m=0.7\n",
        "# Initialize your data containers identically\n",
        "X = []\n",
        "Y = []\n",
        "# l is never used, I removed it.\n",
        "for u in P:\n",
        "    # Add one value to X instead of resetting it.\n",
        "    X.append(u)\n",
        "    # Start with a random value of m instead of remaining stuck\n",
        "    # on a particular branch of the diagram\n",
        "    m = random.random()\n",
        "    for n in range(1001):\n",
        "      m=(u*m)*(1-m)\n",
        "    # The break is harmful here as it prevents completion of\n",
        "    # the loop and collection of data in Y \n",
        "    for l in range(1051):\n",
        "      m=(u*m)*(1-m)\n",
        "    # Collection of data in Y must be done once per value of u\n",
        "    Y.append(m)\n",
        "# Remove the line between successive data points, this renders\n",
        "# the plot illegible. Use a small marker instead.\n",
        "figure(figsize=(20,10))\n",
        "plot(X, Y, ls='', marker='.')\n",
        "show()"
      ],
      "metadata": {
        "id": "yGNTaETJjjOQ"
      },
      "execution_count": null,
      "outputs": []
    },
    {
      "cell_type": "code",
      "source": [],
      "metadata": {
        "id": "SKd89D-ikq29"
      },
      "execution_count": null,
      "outputs": []
    },
    {
      "cell_type": "code",
      "source": [
        " "
      ],
      "metadata": {
        "id": "m-5vv85EnDrN"
      },
      "execution_count": null,
      "outputs": []
    },
    {
      "cell_type": "code",
      "source": [],
      "metadata": {
        "id": "Pk_qa2QJnLpc"
      },
      "execution_count": null,
      "outputs": []
    },
    {
      "cell_type": "code",
      "source": [],
      "metadata": {
        "id": "o2pmKJy0nX2-"
      },
      "execution_count": null,
      "outputs": []
    }
  ]
}