{
  "nbformat": 4,
  "nbformat_minor": 0,
  "metadata": {
    "colab": {
      "private_outputs": true,
      "provenance": [],
      "authorship_tag": "ABX9TyPT1X0EefykuIQbAfEsKwLF",
      "include_colab_link": true
    },
    "kernelspec": {
      "name": "python3",
      "display_name": "Python 3"
    },
    "language_info": {
      "name": "python"
    }
  },
  "cells": [
    {
      "cell_type": "markdown",
      "metadata": {
        "id": "view-in-github",
        "colab_type": "text"
      },
      "source": [
        "<a href=\"https://colab.research.google.com/github/acb100cias/BioMateFC/blob/master/LogisticaDiscreta20261.ipynb\" target=\"_parent\"><img src=\"https://colab.research.google.com/assets/colab-badge.svg\" alt=\"Open In Colab\"/></a>"
      ]
    },
    {
      "cell_type": "code",
      "execution_count": null,
      "metadata": {
        "id": "1X8ECO5AGg66"
      },
      "outputs": [],
      "source": [
        "import numpy  as np\n",
        "import matplotlib.pyplot as plt"
      ]
    },
    {
      "cell_type": "code",
      "source": [
        "r=0.5\n",
        "\n",
        "def inicializa():\n",
        "  global N,result\n",
        "  result =[N]\n",
        "def observa():\n",
        "  global N,result\n",
        "  result.append(N)\n",
        "def actualiza():\n",
        "  global N,result\n",
        "  N=f(N)\n",
        "def f(N):\n",
        "  return N+r*N*(1-N)\n",
        "\n"
      ],
      "metadata": {
        "id": "kIstTkvAGp5v"
      },
      "execution_count": null,
      "outputs": []
    },
    {
      "cell_type": "code",
      "source": [
        "N=0.1\n",
        "inicializa()\n",
        "for t in range(30):\n",
        "  actualiza()\n",
        "  observa()"
      ],
      "metadata": {
        "id": "smrRVCehHxpu"
      },
      "execution_count": null,
      "outputs": []
    },
    {
      "cell_type": "code",
      "source": [
        "result"
      ],
      "metadata": {
        "id": "L1FyIgYQIanh"
      },
      "execution_count": null,
      "outputs": []
    },
    {
      "cell_type": "code",
      "source": [
        "T=np.linspace(0,1,len(result))"
      ],
      "metadata": {
        "id": "u7SVMZo-JCEI"
      },
      "execution_count": null,
      "outputs": []
    },
    {
      "cell_type": "code",
      "source": [
        "len(result)"
      ],
      "metadata": {
        "id": "9BIUElqQKGlQ"
      },
      "execution_count": null,
      "outputs": []
    },
    {
      "cell_type": "code",
      "source": [
        "plt.plot(T,result,'o')"
      ],
      "metadata": {
        "id": "pU6jXtnkJ2NJ"
      },
      "execution_count": null,
      "outputs": []
    },
    {
      "cell_type": "code",
      "source": [
        "plt.plot(np.arange(0,1.1,0.1),f(np.arange(0,1.1,0.1)))\n",
        "plt.plot(np.arange(0,1.1,0.1),np.arange(0,1.1,0.1))"
      ],
      "metadata": {
        "id": "mTRm73lmJ9W9"
      },
      "execution_count": null,
      "outputs": []
    },
    {
      "cell_type": "code",
      "source": [
        "Nmin, Nmax = 0, 1.4\n",
        "plt.plot([Nmin, Nmax], [Nmin, Nmax], 'k')\n",
        "\n",
        "rng = np.linspace(Nmin, Nmax, 101)\n",
        "plt.plot(rng, [f(N) for N in rng], 'k')\n",
        "horizontal = [result[0]]\n",
        "vertical = [result[0]]\n",
        "for N in result[1:]:\n",
        "    horizontal.append(vertical[-1])\n",
        "    vertical.append(N)\n",
        "    horizontal.append(N)\n",
        "    vertical.append(N)\n",
        "plt.plot(horizontal, vertical, 'b')\n"
      ],
      "metadata": {
        "id": "EBpcU82iMbmE"
      },
      "execution_count": null,
      "outputs": []
    },
    {
      "cell_type": "code",
      "source": [
        "r=3.1\n",
        "plt.plot(np.arange(0,1.1,0.1),f(np.arange(0,1.1,0.1)))\n",
        "plt.plot(np.arange(0,1.1,0.1),np.arange(0,1.1,0.1))"
      ],
      "metadata": {
        "id": "miGKSu8tNdol"
      },
      "execution_count": null,
      "outputs": []
    },
    {
      "cell_type": "code",
      "source": [
        "def inicializa():\n",
        "  global N,result\n",
        "  result =[N]\n",
        "def observa():\n",
        "  global N,result\n",
        "  result.append(N)\n",
        "def actualiza():\n",
        "  global N,result\n",
        "  N=f(N)\n",
        "def f(N):\n",
        "  return N+r*N*(1-N)\n"
      ],
      "metadata": {
        "id": "_nNZ3G6dOfQV"
      },
      "execution_count": null,
      "outputs": []
    },
    {
      "cell_type": "code",
      "source": [
        "Nmin, Nmax = 0, 1.4\n",
        "plt.plot([Nmin, Nmax], [Nmin, Nmax], 'k')\n",
        "\n",
        "rng = np.linspace(Nmin, Nmax, 101)\n",
        "plt.plot(rng, [f(N) for N in rng], 'k')\n",
        "horizontal = [result[0]]\n",
        "vertical = [result[0]]\n",
        "for N in result[1:]:\n",
        "    horizontal.append(vertical[-1])\n",
        "    vertical.append(N)\n",
        "    horizontal.append(N)\n",
        "    vertical.append(N)\n",
        "plt.plot(horizontal, vertical, 'b')\n"
      ],
      "metadata": {
        "id": "pk-SlsK_OIdi"
      },
      "execution_count": null,
      "outputs": []
    },
    {
      "cell_type": "code",
      "source": [],
      "metadata": {
        "id": "XkrIVRQdOggE"
      },
      "execution_count": null,
      "outputs": []
    }
  ]
}