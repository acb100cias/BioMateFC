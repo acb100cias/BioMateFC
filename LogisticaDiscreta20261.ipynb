{
  "nbformat": 4,
  "nbformat_minor": 0,
  "metadata": {
    "colab": {
      "private_outputs": true,
      "provenance": [],
      "authorship_tag": "ABX9TyPK5RobLVIp5loS495RpLfJ",
      "include_colab_link": true
    },
    "kernelspec": {
      "name": "python3",
      "display_name": "Python 3"
    },
    "language_info": {
      "name": "python"
    }
  },
  "cells": [
    {
      "cell_type": "markdown",
      "metadata": {
        "id": "view-in-github",
        "colab_type": "text"
      },
      "source": [
        "<a href=\"https://colab.research.google.com/github/acb100cias/BioMateFC/blob/master/LogisticaDiscreta20261.ipynb\" target=\"_parent\"><img src=\"https://colab.research.google.com/assets/colab-badge.svg\" alt=\"Open In Colab\"/></a>"
      ]
    },
    {
      "cell_type": "code",
      "execution_count": null,
      "metadata": {
        "id": "1X8ECO5AGg66"
      },
      "outputs": [],
      "source": [
        "import numpy  as np\n",
        "import matplotlib.pyplot as plt"
      ]
    },
    {
      "cell_type": "code",
      "source": [
        "\n",
        "def inicializa():\n",
        "  global N,result\n",
        "  result =[N]\n",
        "def observa():\n",
        "  global N,result\n",
        "  result.append(N)\n",
        "def actualiza():\n",
        "  global N,result\n",
        "  N=f(N)\n",
        "def f(N):\n",
        "  return N+r*N*(1-N)\n",
        "\n"
      ],
      "metadata": {
        "id": "kIstTkvAGp5v"
      },
      "execution_count": null,
      "outputs": []
    },
    {
      "cell_type": "code",
      "source": [
        "r=3.5\n",
        "N=0.1\n",
        "inicializa()\n",
        "for t in range(30):\n",
        "  actualiza()\n",
        "  observa()"
      ],
      "metadata": {
        "id": "smrRVCehHxpu"
      },
      "execution_count": null,
      "outputs": []
    },
    {
      "cell_type": "code",
      "source": [
        "result"
      ],
      "metadata": {
        "id": "L1FyIgYQIanh"
      },
      "execution_count": null,
      "outputs": []
    },
    {
      "cell_type": "code",
      "source": [
        "T=np.linspace(0,1,len(result))"
      ],
      "metadata": {
        "id": "u7SVMZo-JCEI"
      },
      "execution_count": null,
      "outputs": []
    },
    {
      "cell_type": "code",
      "source": [
        "len(result)"
      ],
      "metadata": {
        "id": "9BIUElqQKGlQ"
      },
      "execution_count": null,
      "outputs": []
    },
    {
      "cell_type": "code",
      "source": [
        "plt.plot(T,result)"
      ],
      "metadata": {
        "id": "pU6jXtnkJ2NJ"
      },
      "execution_count": null,
      "outputs": []
    },
    {
      "cell_type": "code",
      "source": [
        "plt.plot(np.arange(0,1.1,0.1),f(np.arange(0,1.1,0.1)))\n",
        "plt.plot(np.arange(0,1.1,0.1),np.arange(0,1.1,0.1))"
      ],
      "metadata": {
        "id": "mTRm73lmJ9W9"
      },
      "execution_count": null,
      "outputs": []
    },
    {
      "cell_type": "code",
      "source": [
        "Nmin, Nmax = 0, 1.4\n",
        "plt.plot([Nmin, Nmax], [Nmin, Nmax], 'k')\n",
        "\n",
        "rng = np.linspace(Nmin, Nmax, 101)\n",
        "plt.plot(rng, [f(N) for N in rng], 'k')\n",
        "horizontal = [result[0]]\n",
        "vertical = [result[0]]\n",
        "for N in result[1:]:\n",
        "    horizontal.append(vertical[-1])\n",
        "    vertical.append(N)\n",
        "    horizontal.append(N)\n",
        "    vertical.append(N)\n",
        "plt.plot(horizontal, vertical, 'b')\n"
      ],
      "metadata": {
        "id": "EBpcU82iMbmE"
      },
      "execution_count": null,
      "outputs": []
    },
    {
      "cell_type": "code",
      "source": [
        "r=3.1\n",
        "plt.plot(np.arange(0,1.1,0.1),f(np.arange(0,1.1,0.1)))\n",
        "plt.plot(np.arange(0,1.1,0.1),np.arange(0,1.1,0.1))"
      ],
      "metadata": {
        "id": "miGKSu8tNdol"
      },
      "execution_count": null,
      "outputs": []
    },
    {
      "cell_type": "code",
      "source": [
        "def inicializa():\n",
        "  global N,result\n",
        "  result =[N]\n",
        "def observa():\n",
        "  global N,result\n",
        "  result.append(N)\n",
        "def actualiza():\n",
        "  global N,result\n",
        "  N=f(N)\n",
        "def f(N):\n",
        "  return N+r*N*(1-N)\n"
      ],
      "metadata": {
        "id": "_nNZ3G6dOfQV"
      },
      "execution_count": null,
      "outputs": []
    },
    {
      "cell_type": "code",
      "source": [
        "Nmin, Nmax = 0, 1.4\n",
        "plt.plot([Nmin, Nmax], [Nmin, Nmax], 'k')\n",
        "\n",
        "rng = np.linspace(Nmin, Nmax, 101)\n",
        "plt.plot(rng, [f(N) for N in rng], 'k')\n",
        "horizontal = [result[0]]\n",
        "vertical = [result[0]]\n",
        "for N in result[1:]:\n",
        "    horizontal.append(vertical[-1])\n",
        "    vertical.append(N)\n",
        "    horizontal.append(N)\n",
        "    vertical.append(N)\n",
        "plt.plot(horizontal, vertical, 'b')\n"
      ],
      "metadata": {
        "id": "pk-SlsK_OIdi"
      },
      "execution_count": null,
      "outputs": []
    },
    {
      "cell_type": "code",
      "source": [
        "def F(r,x):\n",
        "    return r*x*(1-x)"
      ],
      "metadata": {
        "id": "XkrIVRQdOggE"
      },
      "execution_count": null,
      "outputs": []
    },
    {
      "cell_type": "code",
      "source": [
        "T=np.arange(0,1.01,0.01)\n",
        "plt.plot(T,F(0.1,T),label='r=0.1')\n",
        "plt.plot(T,F(1,T),label='r=1')\n",
        "plt.plot(T,F(1.01,T),label='r=1.01')\n",
        "plt.plot(T,F(1.5,T),label='r=1.5')\n",
        "plt.plot(T,F(2,T),label='r=2')\n",
        "plt.plot(T,F(2.5,T),label='r=2.5')\n",
        "plt.plot(T,F(2.8,T),label='r=2.8')\n",
        "plt.plot(T,F(3.1,T),label='r=3.1')\n",
        "plt.plot(T,T,label='y=x')\n",
        "plt.legend()"
      ],
      "metadata": {
        "id": "Ucscq57VdzYL"
      },
      "execution_count": null,
      "outputs": []
    },
    {
      "cell_type": "code",
      "source": [
        "r=4.0\n",
        "plt.plot(T,F(r,T),label='r=%1f'%r)\n",
        "plt.plot(T,T,label='y=x')\n",
        "xc=0.05\n",
        "for i in range(1000):\n",
        "    plt.plot([xc,xc],[xc,F(r,xc)], color='k', linestyle='--')\n",
        "    plt.plot([F(r,xc),xc],[F(r,xc),F(r,xc)], color='k', linestyle='--')\n",
        "    xc=F(r,xc)\n",
        "plt.legend()"
      ],
      "metadata": {
        "id": "20zjMPWId63p"
      },
      "execution_count": null,
      "outputs": []
    },
    {
      "cell_type": "code",
      "source": [
        "X0=[0.5]\n",
        "for r in np.arange(2,4.01,0.1):\n",
        "    X=[X0[0]]\n",
        "    for i in range(100):\n",
        "        X.append(F(r,X[-1]))\n",
        "    plt.plot(X,'.')\n",
        "    plt.show()"
      ],
      "metadata": {
        "id": "udHHpWYwemeq"
      },
      "execution_count": null,
      "outputs": []
    },
    {
      "cell_type": "code",
      "source": [
        "n = 10000\n",
        "r = np.linspace(1, 3.925, n)\n",
        "iterations = 1000\n",
        "last = 100\n",
        "x = 1e-5 * np.ones(n)\n",
        "lyapunov = np.zeros(n)\n",
        "fig,ax1  = plt.subplots(1, 1, figsize=(20, 10))\n",
        "for i in range(iterations):\n",
        "    x = F(r, x)\n",
        "    lyapunov += np.log(abs(r - 2 * r * x))\n",
        "    if i >= (iterations - last):\n",
        "        ax1.plot(r, x, ',k', alpha=.25)\n",
        "ax1.set_xlim(1., 3.925)\n",
        "ax1.set_title('Diagrama de bifurcaciones')\n",
        "plt.xlabel('r')\n",
        "plt.ylabel('X')"
      ],
      "metadata": {
        "id": "0XWmi7HSgDJ4"
      },
      "execution_count": null,
      "outputs": []
    },
    {
      "cell_type": "code",
      "source": [],
      "metadata": {
        "id": "KCbyisBghxXG"
      },
      "execution_count": null,
      "outputs": []
    }
  ]
}